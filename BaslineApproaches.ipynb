{
  "nbformat": 4,
  "nbformat_minor": 0,
  "metadata": {
    "colab": {
      "name": "SpacySummarizer.ipynb",
      "provenance": [],
      "toc_visible": true,
      "include_colab_link": true
    },
    "kernelspec": {
      "name": "python3",
      "display_name": "Python 3"
    },
    "widgets": {
      "application/vnd.jupyter.widget-state+json": {
        "8a0c56b9f15f4b9c8069939aea4b1989": {
          "model_module": "@jupyter-widgets/controls",
          "model_name": "HBoxModel",
          "state": {
            "_view_name": "HBoxView",
            "_dom_classes": [],
            "_model_name": "HBoxModel",
            "_view_module": "@jupyter-widgets/controls",
            "_model_module_version": "1.5.0",
            "_view_count": null,
            "_view_module_version": "1.5.0",
            "box_style": "",
            "layout": "IPY_MODEL_02f45a2600034ab2a30e140e45d118c5",
            "_model_module": "@jupyter-widgets/controls",
            "children": [
              "IPY_MODEL_a913eb61e93d46878dfcaeebfb1ee7a6",
              "IPY_MODEL_23ce4392c66c413ba4346e0d9bab8d0a"
            ]
          }
        },
        "02f45a2600034ab2a30e140e45d118c5": {
          "model_module": "@jupyter-widgets/base",
          "model_name": "LayoutModel",
          "state": {
            "_view_name": "LayoutView",
            "grid_template_rows": null,
            "right": null,
            "justify_content": null,
            "_view_module": "@jupyter-widgets/base",
            "overflow": null,
            "_model_module_version": "1.2.0",
            "_view_count": null,
            "flex_flow": null,
            "width": null,
            "min_width": null,
            "border": null,
            "align_items": null,
            "bottom": null,
            "_model_module": "@jupyter-widgets/base",
            "top": null,
            "grid_column": null,
            "overflow_y": null,
            "overflow_x": null,
            "grid_auto_flow": null,
            "grid_area": null,
            "grid_template_columns": null,
            "flex": null,
            "_model_name": "LayoutModel",
            "justify_items": null,
            "grid_row": null,
            "max_height": null,
            "align_content": null,
            "visibility": null,
            "align_self": null,
            "height": null,
            "min_height": null,
            "padding": null,
            "grid_auto_rows": null,
            "grid_gap": null,
            "max_width": null,
            "order": null,
            "_view_module_version": "1.2.0",
            "grid_template_areas": null,
            "object_position": null,
            "object_fit": null,
            "grid_auto_columns": null,
            "margin": null,
            "display": null,
            "left": null
          }
        },
        "a913eb61e93d46878dfcaeebfb1ee7a6": {
          "model_module": "@jupyter-widgets/controls",
          "model_name": "FloatProgressModel",
          "state": {
            "_view_name": "ProgressView",
            "style": "IPY_MODEL_64ce2e2fac40413192e8d1b4b14dd377",
            "_dom_classes": [],
            "description": "Downloading: 100%",
            "_model_name": "FloatProgressModel",
            "bar_style": "success",
            "max": 434,
            "_view_module": "@jupyter-widgets/controls",
            "_model_module_version": "1.5.0",
            "value": 434,
            "_view_count": null,
            "_view_module_version": "1.5.0",
            "orientation": "horizontal",
            "min": 0,
            "description_tooltip": null,
            "_model_module": "@jupyter-widgets/controls",
            "layout": "IPY_MODEL_60b8305021a24b5c9864842a13157064"
          }
        },
        "23ce4392c66c413ba4346e0d9bab8d0a": {
          "model_module": "@jupyter-widgets/controls",
          "model_name": "HTMLModel",
          "state": {
            "_view_name": "HTMLView",
            "style": "IPY_MODEL_000f3208a907479391a873e8da82e44d",
            "_dom_classes": [],
            "description": "",
            "_model_name": "HTMLModel",
            "placeholder": "​",
            "_view_module": "@jupyter-widgets/controls",
            "_model_module_version": "1.5.0",
            "value": " 434/434 [00:00&lt;00:00, 3.40kB/s]",
            "_view_count": null,
            "_view_module_version": "1.5.0",
            "description_tooltip": null,
            "_model_module": "@jupyter-widgets/controls",
            "layout": "IPY_MODEL_70d612aec88b44099f53b1c714efb847"
          }
        },
        "64ce2e2fac40413192e8d1b4b14dd377": {
          "model_module": "@jupyter-widgets/controls",
          "model_name": "ProgressStyleModel",
          "state": {
            "_view_name": "StyleView",
            "_model_name": "ProgressStyleModel",
            "description_width": "initial",
            "_view_module": "@jupyter-widgets/base",
            "_model_module_version": "1.5.0",
            "_view_count": null,
            "_view_module_version": "1.2.0",
            "bar_color": null,
            "_model_module": "@jupyter-widgets/controls"
          }
        },
        "60b8305021a24b5c9864842a13157064": {
          "model_module": "@jupyter-widgets/base",
          "model_name": "LayoutModel",
          "state": {
            "_view_name": "LayoutView",
            "grid_template_rows": null,
            "right": null,
            "justify_content": null,
            "_view_module": "@jupyter-widgets/base",
            "overflow": null,
            "_model_module_version": "1.2.0",
            "_view_count": null,
            "flex_flow": null,
            "width": null,
            "min_width": null,
            "border": null,
            "align_items": null,
            "bottom": null,
            "_model_module": "@jupyter-widgets/base",
            "top": null,
            "grid_column": null,
            "overflow_y": null,
            "overflow_x": null,
            "grid_auto_flow": null,
            "grid_area": null,
            "grid_template_columns": null,
            "flex": null,
            "_model_name": "LayoutModel",
            "justify_items": null,
            "grid_row": null,
            "max_height": null,
            "align_content": null,
            "visibility": null,
            "align_self": null,
            "height": null,
            "min_height": null,
            "padding": null,
            "grid_auto_rows": null,
            "grid_gap": null,
            "max_width": null,
            "order": null,
            "_view_module_version": "1.2.0",
            "grid_template_areas": null,
            "object_position": null,
            "object_fit": null,
            "grid_auto_columns": null,
            "margin": null,
            "display": null,
            "left": null
          }
        },
        "000f3208a907479391a873e8da82e44d": {
          "model_module": "@jupyter-widgets/controls",
          "model_name": "DescriptionStyleModel",
          "state": {
            "_view_name": "StyleView",
            "_model_name": "DescriptionStyleModel",
            "description_width": "",
            "_view_module": "@jupyter-widgets/base",
            "_model_module_version": "1.5.0",
            "_view_count": null,
            "_view_module_version": "1.2.0",
            "_model_module": "@jupyter-widgets/controls"
          }
        },
        "70d612aec88b44099f53b1c714efb847": {
          "model_module": "@jupyter-widgets/base",
          "model_name": "LayoutModel",
          "state": {
            "_view_name": "LayoutView",
            "grid_template_rows": null,
            "right": null,
            "justify_content": null,
            "_view_module": "@jupyter-widgets/base",
            "overflow": null,
            "_model_module_version": "1.2.0",
            "_view_count": null,
            "flex_flow": null,
            "width": null,
            "min_width": null,
            "border": null,
            "align_items": null,
            "bottom": null,
            "_model_module": "@jupyter-widgets/base",
            "top": null,
            "grid_column": null,
            "overflow_y": null,
            "overflow_x": null,
            "grid_auto_flow": null,
            "grid_area": null,
            "grid_template_columns": null,
            "flex": null,
            "_model_name": "LayoutModel",
            "justify_items": null,
            "grid_row": null,
            "max_height": null,
            "align_content": null,
            "visibility": null,
            "align_self": null,
            "height": null,
            "min_height": null,
            "padding": null,
            "grid_auto_rows": null,
            "grid_gap": null,
            "max_width": null,
            "order": null,
            "_view_module_version": "1.2.0",
            "grid_template_areas": null,
            "object_position": null,
            "object_fit": null,
            "grid_auto_columns": null,
            "margin": null,
            "display": null,
            "left": null
          }
        },
        "8f51582122804c50882dcaa8904d199e": {
          "model_module": "@jupyter-widgets/controls",
          "model_name": "HBoxModel",
          "state": {
            "_view_name": "HBoxView",
            "_dom_classes": [],
            "_model_name": "HBoxModel",
            "_view_module": "@jupyter-widgets/controls",
            "_model_module_version": "1.5.0",
            "_view_count": null,
            "_view_module_version": "1.5.0",
            "box_style": "",
            "layout": "IPY_MODEL_2479fb085b7e429aa4aacf79f67b5cc6",
            "_model_module": "@jupyter-widgets/controls",
            "children": [
              "IPY_MODEL_db96b8bdbfd3468791b555c5571a11ad",
              "IPY_MODEL_cf54cd403b8644c9a3d0b6928e428618"
            ]
          }
        },
        "2479fb085b7e429aa4aacf79f67b5cc6": {
          "model_module": "@jupyter-widgets/base",
          "model_name": "LayoutModel",
          "state": {
            "_view_name": "LayoutView",
            "grid_template_rows": null,
            "right": null,
            "justify_content": null,
            "_view_module": "@jupyter-widgets/base",
            "overflow": null,
            "_model_module_version": "1.2.0",
            "_view_count": null,
            "flex_flow": null,
            "width": null,
            "min_width": null,
            "border": null,
            "align_items": null,
            "bottom": null,
            "_model_module": "@jupyter-widgets/base",
            "top": null,
            "grid_column": null,
            "overflow_y": null,
            "overflow_x": null,
            "grid_auto_flow": null,
            "grid_area": null,
            "grid_template_columns": null,
            "flex": null,
            "_model_name": "LayoutModel",
            "justify_items": null,
            "grid_row": null,
            "max_height": null,
            "align_content": null,
            "visibility": null,
            "align_self": null,
            "height": null,
            "min_height": null,
            "padding": null,
            "grid_auto_rows": null,
            "grid_gap": null,
            "max_width": null,
            "order": null,
            "_view_module_version": "1.2.0",
            "grid_template_areas": null,
            "object_position": null,
            "object_fit": null,
            "grid_auto_columns": null,
            "margin": null,
            "display": null,
            "left": null
          }
        },
        "db96b8bdbfd3468791b555c5571a11ad": {
          "model_module": "@jupyter-widgets/controls",
          "model_name": "FloatProgressModel",
          "state": {
            "_view_name": "ProgressView",
            "style": "IPY_MODEL_6cdbf3bc7cee4cd388de1ed23f66c8ff",
            "_dom_classes": [],
            "description": "Downloading: 100%",
            "_model_name": "FloatProgressModel",
            "bar_style": "success",
            "max": 1344997306,
            "_view_module": "@jupyter-widgets/controls",
            "_model_module_version": "1.5.0",
            "value": 1344997306,
            "_view_count": null,
            "_view_module_version": "1.5.0",
            "orientation": "horizontal",
            "min": 0,
            "description_tooltip": null,
            "_model_module": "@jupyter-widgets/controls",
            "layout": "IPY_MODEL_b3ac604793dc48fe9c3e932ba0566004"
          }
        },
        "cf54cd403b8644c9a3d0b6928e428618": {
          "model_module": "@jupyter-widgets/controls",
          "model_name": "HTMLModel",
          "state": {
            "_view_name": "HTMLView",
            "style": "IPY_MODEL_cca7409b018049188dcf989952b89265",
            "_dom_classes": [],
            "description": "",
            "_model_name": "HTMLModel",
            "placeholder": "​",
            "_view_module": "@jupyter-widgets/controls",
            "_model_module_version": "1.5.0",
            "value": " 1.34G/1.34G [00:28&lt;00:00, 48.0MB/s]",
            "_view_count": null,
            "_view_module_version": "1.5.0",
            "description_tooltip": null,
            "_model_module": "@jupyter-widgets/controls",
            "layout": "IPY_MODEL_21969e17d5a04686b08ad714c1e2cca6"
          }
        },
        "6cdbf3bc7cee4cd388de1ed23f66c8ff": {
          "model_module": "@jupyter-widgets/controls",
          "model_name": "ProgressStyleModel",
          "state": {
            "_view_name": "StyleView",
            "_model_name": "ProgressStyleModel",
            "description_width": "initial",
            "_view_module": "@jupyter-widgets/base",
            "_model_module_version": "1.5.0",
            "_view_count": null,
            "_view_module_version": "1.2.0",
            "bar_color": null,
            "_model_module": "@jupyter-widgets/controls"
          }
        },
        "b3ac604793dc48fe9c3e932ba0566004": {
          "model_module": "@jupyter-widgets/base",
          "model_name": "LayoutModel",
          "state": {
            "_view_name": "LayoutView",
            "grid_template_rows": null,
            "right": null,
            "justify_content": null,
            "_view_module": "@jupyter-widgets/base",
            "overflow": null,
            "_model_module_version": "1.2.0",
            "_view_count": null,
            "flex_flow": null,
            "width": null,
            "min_width": null,
            "border": null,
            "align_items": null,
            "bottom": null,
            "_model_module": "@jupyter-widgets/base",
            "top": null,
            "grid_column": null,
            "overflow_y": null,
            "overflow_x": null,
            "grid_auto_flow": null,
            "grid_area": null,
            "grid_template_columns": null,
            "flex": null,
            "_model_name": "LayoutModel",
            "justify_items": null,
            "grid_row": null,
            "max_height": null,
            "align_content": null,
            "visibility": null,
            "align_self": null,
            "height": null,
            "min_height": null,
            "padding": null,
            "grid_auto_rows": null,
            "grid_gap": null,
            "max_width": null,
            "order": null,
            "_view_module_version": "1.2.0",
            "grid_template_areas": null,
            "object_position": null,
            "object_fit": null,
            "grid_auto_columns": null,
            "margin": null,
            "display": null,
            "left": null
          }
        },
        "cca7409b018049188dcf989952b89265": {
          "model_module": "@jupyter-widgets/controls",
          "model_name": "DescriptionStyleModel",
          "state": {
            "_view_name": "StyleView",
            "_model_name": "DescriptionStyleModel",
            "description_width": "",
            "_view_module": "@jupyter-widgets/base",
            "_model_module_version": "1.5.0",
            "_view_count": null,
            "_view_module_version": "1.2.0",
            "_model_module": "@jupyter-widgets/controls"
          }
        },
        "21969e17d5a04686b08ad714c1e2cca6": {
          "model_module": "@jupyter-widgets/base",
          "model_name": "LayoutModel",
          "state": {
            "_view_name": "LayoutView",
            "grid_template_rows": null,
            "right": null,
            "justify_content": null,
            "_view_module": "@jupyter-widgets/base",
            "overflow": null,
            "_model_module_version": "1.2.0",
            "_view_count": null,
            "flex_flow": null,
            "width": null,
            "min_width": null,
            "border": null,
            "align_items": null,
            "bottom": null,
            "_model_module": "@jupyter-widgets/base",
            "top": null,
            "grid_column": null,
            "overflow_y": null,
            "overflow_x": null,
            "grid_auto_flow": null,
            "grid_area": null,
            "grid_template_columns": null,
            "flex": null,
            "_model_name": "LayoutModel",
            "justify_items": null,
            "grid_row": null,
            "max_height": null,
            "align_content": null,
            "visibility": null,
            "align_self": null,
            "height": null,
            "min_height": null,
            "padding": null,
            "grid_auto_rows": null,
            "grid_gap": null,
            "max_width": null,
            "order": null,
            "_view_module_version": "1.2.0",
            "grid_template_areas": null,
            "object_position": null,
            "object_fit": null,
            "grid_auto_columns": null,
            "margin": null,
            "display": null,
            "left": null
          }
        },
        "0734e47e85464116960227e33ad4b6f3": {
          "model_module": "@jupyter-widgets/controls",
          "model_name": "HBoxModel",
          "state": {
            "_view_name": "HBoxView",
            "_dom_classes": [],
            "_model_name": "HBoxModel",
            "_view_module": "@jupyter-widgets/controls",
            "_model_module_version": "1.5.0",
            "_view_count": null,
            "_view_module_version": "1.5.0",
            "box_style": "",
            "layout": "IPY_MODEL_8d36d9a52e4344be8d539d13bc6af692",
            "_model_module": "@jupyter-widgets/controls",
            "children": [
              "IPY_MODEL_2148c8ee9e984cc29efcd4cf1e91bb13",
              "IPY_MODEL_35ae2e47eeac417b9cb739b48c9a84eb"
            ]
          }
        },
        "8d36d9a52e4344be8d539d13bc6af692": {
          "model_module": "@jupyter-widgets/base",
          "model_name": "LayoutModel",
          "state": {
            "_view_name": "LayoutView",
            "grid_template_rows": null,
            "right": null,
            "justify_content": null,
            "_view_module": "@jupyter-widgets/base",
            "overflow": null,
            "_model_module_version": "1.2.0",
            "_view_count": null,
            "flex_flow": null,
            "width": null,
            "min_width": null,
            "border": null,
            "align_items": null,
            "bottom": null,
            "_model_module": "@jupyter-widgets/base",
            "top": null,
            "grid_column": null,
            "overflow_y": null,
            "overflow_x": null,
            "grid_auto_flow": null,
            "grid_area": null,
            "grid_template_columns": null,
            "flex": null,
            "_model_name": "LayoutModel",
            "justify_items": null,
            "grid_row": null,
            "max_height": null,
            "align_content": null,
            "visibility": null,
            "align_self": null,
            "height": null,
            "min_height": null,
            "padding": null,
            "grid_auto_rows": null,
            "grid_gap": null,
            "max_width": null,
            "order": null,
            "_view_module_version": "1.2.0",
            "grid_template_areas": null,
            "object_position": null,
            "object_fit": null,
            "grid_auto_columns": null,
            "margin": null,
            "display": null,
            "left": null
          }
        },
        "2148c8ee9e984cc29efcd4cf1e91bb13": {
          "model_module": "@jupyter-widgets/controls",
          "model_name": "FloatProgressModel",
          "state": {
            "_view_name": "ProgressView",
            "style": "IPY_MODEL_a057422c324e4535b616d170d8283e2a",
            "_dom_classes": [],
            "description": "Downloading: 100%",
            "_model_name": "FloatProgressModel",
            "bar_style": "success",
            "max": 231508,
            "_view_module": "@jupyter-widgets/controls",
            "_model_module_version": "1.5.0",
            "value": 231508,
            "_view_count": null,
            "_view_module_version": "1.5.0",
            "orientation": "horizontal",
            "min": 0,
            "description_tooltip": null,
            "_model_module": "@jupyter-widgets/controls",
            "layout": "IPY_MODEL_5f09668bad5b45a396527c65b2af2b7e"
          }
        },
        "35ae2e47eeac417b9cb739b48c9a84eb": {
          "model_module": "@jupyter-widgets/controls",
          "model_name": "HTMLModel",
          "state": {
            "_view_name": "HTMLView",
            "style": "IPY_MODEL_4763b6db4e9a4068a102cf157a943c96",
            "_dom_classes": [],
            "description": "",
            "_model_name": "HTMLModel",
            "placeholder": "​",
            "_view_module": "@jupyter-widgets/controls",
            "_model_module_version": "1.5.0",
            "value": " 232k/232k [00:00&lt;00:00, 600kB/s]",
            "_view_count": null,
            "_view_module_version": "1.5.0",
            "description_tooltip": null,
            "_model_module": "@jupyter-widgets/controls",
            "layout": "IPY_MODEL_fdfe39d5113d44408c5f4eea1860f067"
          }
        },
        "a057422c324e4535b616d170d8283e2a": {
          "model_module": "@jupyter-widgets/controls",
          "model_name": "ProgressStyleModel",
          "state": {
            "_view_name": "StyleView",
            "_model_name": "ProgressStyleModel",
            "description_width": "initial",
            "_view_module": "@jupyter-widgets/base",
            "_model_module_version": "1.5.0",
            "_view_count": null,
            "_view_module_version": "1.2.0",
            "bar_color": null,
            "_model_module": "@jupyter-widgets/controls"
          }
        },
        "5f09668bad5b45a396527c65b2af2b7e": {
          "model_module": "@jupyter-widgets/base",
          "model_name": "LayoutModel",
          "state": {
            "_view_name": "LayoutView",
            "grid_template_rows": null,
            "right": null,
            "justify_content": null,
            "_view_module": "@jupyter-widgets/base",
            "overflow": null,
            "_model_module_version": "1.2.0",
            "_view_count": null,
            "flex_flow": null,
            "width": null,
            "min_width": null,
            "border": null,
            "align_items": null,
            "bottom": null,
            "_model_module": "@jupyter-widgets/base",
            "top": null,
            "grid_column": null,
            "overflow_y": null,
            "overflow_x": null,
            "grid_auto_flow": null,
            "grid_area": null,
            "grid_template_columns": null,
            "flex": null,
            "_model_name": "LayoutModel",
            "justify_items": null,
            "grid_row": null,
            "max_height": null,
            "align_content": null,
            "visibility": null,
            "align_self": null,
            "height": null,
            "min_height": null,
            "padding": null,
            "grid_auto_rows": null,
            "grid_gap": null,
            "max_width": null,
            "order": null,
            "_view_module_version": "1.2.0",
            "grid_template_areas": null,
            "object_position": null,
            "object_fit": null,
            "grid_auto_columns": null,
            "margin": null,
            "display": null,
            "left": null
          }
        },
        "4763b6db4e9a4068a102cf157a943c96": {
          "model_module": "@jupyter-widgets/controls",
          "model_name": "DescriptionStyleModel",
          "state": {
            "_view_name": "StyleView",
            "_model_name": "DescriptionStyleModel",
            "description_width": "",
            "_view_module": "@jupyter-widgets/base",
            "_model_module_version": "1.5.0",
            "_view_count": null,
            "_view_module_version": "1.2.0",
            "_model_module": "@jupyter-widgets/controls"
          }
        },
        "fdfe39d5113d44408c5f4eea1860f067": {
          "model_module": "@jupyter-widgets/base",
          "model_name": "LayoutModel",
          "state": {
            "_view_name": "LayoutView",
            "grid_template_rows": null,
            "right": null,
            "justify_content": null,
            "_view_module": "@jupyter-widgets/base",
            "overflow": null,
            "_model_module_version": "1.2.0",
            "_view_count": null,
            "flex_flow": null,
            "width": null,
            "min_width": null,
            "border": null,
            "align_items": null,
            "bottom": null,
            "_model_module": "@jupyter-widgets/base",
            "top": null,
            "grid_column": null,
            "overflow_y": null,
            "overflow_x": null,
            "grid_auto_flow": null,
            "grid_area": null,
            "grid_template_columns": null,
            "flex": null,
            "_model_name": "LayoutModel",
            "justify_items": null,
            "grid_row": null,
            "max_height": null,
            "align_content": null,
            "visibility": null,
            "align_self": null,
            "height": null,
            "min_height": null,
            "padding": null,
            "grid_auto_rows": null,
            "grid_gap": null,
            "max_width": null,
            "order": null,
            "_view_module_version": "1.2.0",
            "grid_template_areas": null,
            "object_position": null,
            "object_fit": null,
            "grid_auto_columns": null,
            "margin": null,
            "display": null,
            "left": null
          }
        },
        "efa93e8d6b344e788763faa937aeb634": {
          "model_module": "@jupyter-widgets/controls",
          "model_name": "HBoxModel",
          "state": {
            "_view_name": "HBoxView",
            "_dom_classes": [],
            "_model_name": "HBoxModel",
            "_view_module": "@jupyter-widgets/controls",
            "_model_module_version": "1.5.0",
            "_view_count": null,
            "_view_module_version": "1.5.0",
            "box_style": "",
            "layout": "IPY_MODEL_9cd90f7c39834f33b569c5b564eb7878",
            "_model_module": "@jupyter-widgets/controls",
            "children": [
              "IPY_MODEL_48ae285df695419898a433156ab30dda",
              "IPY_MODEL_3b35fd985bec40e3a885561691b2e35c"
            ]
          }
        },
        "9cd90f7c39834f33b569c5b564eb7878": {
          "model_module": "@jupyter-widgets/base",
          "model_name": "LayoutModel",
          "state": {
            "_view_name": "LayoutView",
            "grid_template_rows": null,
            "right": null,
            "justify_content": null,
            "_view_module": "@jupyter-widgets/base",
            "overflow": null,
            "_model_module_version": "1.2.0",
            "_view_count": null,
            "flex_flow": null,
            "width": null,
            "min_width": null,
            "border": null,
            "align_items": null,
            "bottom": null,
            "_model_module": "@jupyter-widgets/base",
            "top": null,
            "grid_column": null,
            "overflow_y": null,
            "overflow_x": null,
            "grid_auto_flow": null,
            "grid_area": null,
            "grid_template_columns": null,
            "flex": null,
            "_model_name": "LayoutModel",
            "justify_items": null,
            "grid_row": null,
            "max_height": null,
            "align_content": null,
            "visibility": null,
            "align_self": null,
            "height": null,
            "min_height": null,
            "padding": null,
            "grid_auto_rows": null,
            "grid_gap": null,
            "max_width": null,
            "order": null,
            "_view_module_version": "1.2.0",
            "grid_template_areas": null,
            "object_position": null,
            "object_fit": null,
            "grid_auto_columns": null,
            "margin": null,
            "display": null,
            "left": null
          }
        },
        "48ae285df695419898a433156ab30dda": {
          "model_module": "@jupyter-widgets/controls",
          "model_name": "FloatProgressModel",
          "state": {
            "_view_name": "ProgressView",
            "style": "IPY_MODEL_79e16ed2bb0c4c68a0e86ff007d211e3",
            "_dom_classes": [],
            "description": "Downloading: 100%",
            "_model_name": "FloatProgressModel",
            "bar_style": "success",
            "max": 28,
            "_view_module": "@jupyter-widgets/controls",
            "_model_module_version": "1.5.0",
            "value": 28,
            "_view_count": null,
            "_view_module_version": "1.5.0",
            "orientation": "horizontal",
            "min": 0,
            "description_tooltip": null,
            "_model_module": "@jupyter-widgets/controls",
            "layout": "IPY_MODEL_b8779ebd049642e38805c318011a1263"
          }
        },
        "3b35fd985bec40e3a885561691b2e35c": {
          "model_module": "@jupyter-widgets/controls",
          "model_name": "HTMLModel",
          "state": {
            "_view_name": "HTMLView",
            "style": "IPY_MODEL_2b92a82fc2f34ea2b46e73c392b9b9c2",
            "_dom_classes": [],
            "description": "",
            "_model_name": "HTMLModel",
            "placeholder": "​",
            "_view_module": "@jupyter-widgets/controls",
            "_model_module_version": "1.5.0",
            "value": " 28.0/28.0 [10:14&lt;00:00, 21.9s/B]",
            "_view_count": null,
            "_view_module_version": "1.5.0",
            "description_tooltip": null,
            "_model_module": "@jupyter-widgets/controls",
            "layout": "IPY_MODEL_8f2406b5431549b5a9503c4ab612ad9c"
          }
        },
        "79e16ed2bb0c4c68a0e86ff007d211e3": {
          "model_module": "@jupyter-widgets/controls",
          "model_name": "ProgressStyleModel",
          "state": {
            "_view_name": "StyleView",
            "_model_name": "ProgressStyleModel",
            "description_width": "initial",
            "_view_module": "@jupyter-widgets/base",
            "_model_module_version": "1.5.0",
            "_view_count": null,
            "_view_module_version": "1.2.0",
            "bar_color": null,
            "_model_module": "@jupyter-widgets/controls"
          }
        },
        "b8779ebd049642e38805c318011a1263": {
          "model_module": "@jupyter-widgets/base",
          "model_name": "LayoutModel",
          "state": {
            "_view_name": "LayoutView",
            "grid_template_rows": null,
            "right": null,
            "justify_content": null,
            "_view_module": "@jupyter-widgets/base",
            "overflow": null,
            "_model_module_version": "1.2.0",
            "_view_count": null,
            "flex_flow": null,
            "width": null,
            "min_width": null,
            "border": null,
            "align_items": null,
            "bottom": null,
            "_model_module": "@jupyter-widgets/base",
            "top": null,
            "grid_column": null,
            "overflow_y": null,
            "overflow_x": null,
            "grid_auto_flow": null,
            "grid_area": null,
            "grid_template_columns": null,
            "flex": null,
            "_model_name": "LayoutModel",
            "justify_items": null,
            "grid_row": null,
            "max_height": null,
            "align_content": null,
            "visibility": null,
            "align_self": null,
            "height": null,
            "min_height": null,
            "padding": null,
            "grid_auto_rows": null,
            "grid_gap": null,
            "max_width": null,
            "order": null,
            "_view_module_version": "1.2.0",
            "grid_template_areas": null,
            "object_position": null,
            "object_fit": null,
            "grid_auto_columns": null,
            "margin": null,
            "display": null,
            "left": null
          }
        },
        "2b92a82fc2f34ea2b46e73c392b9b9c2": {
          "model_module": "@jupyter-widgets/controls",
          "model_name": "DescriptionStyleModel",
          "state": {
            "_view_name": "StyleView",
            "_model_name": "DescriptionStyleModel",
            "description_width": "",
            "_view_module": "@jupyter-widgets/base",
            "_model_module_version": "1.5.0",
            "_view_count": null,
            "_view_module_version": "1.2.0",
            "_model_module": "@jupyter-widgets/controls"
          }
        },
        "8f2406b5431549b5a9503c4ab612ad9c": {
          "model_module": "@jupyter-widgets/base",
          "model_name": "LayoutModel",
          "state": {
            "_view_name": "LayoutView",
            "grid_template_rows": null,
            "right": null,
            "justify_content": null,
            "_view_module": "@jupyter-widgets/base",
            "overflow": null,
            "_model_module_version": "1.2.0",
            "_view_count": null,
            "flex_flow": null,
            "width": null,
            "min_width": null,
            "border": null,
            "align_items": null,
            "bottom": null,
            "_model_module": "@jupyter-widgets/base",
            "top": null,
            "grid_column": null,
            "overflow_y": null,
            "overflow_x": null,
            "grid_auto_flow": null,
            "grid_area": null,
            "grid_template_columns": null,
            "flex": null,
            "_model_name": "LayoutModel",
            "justify_items": null,
            "grid_row": null,
            "max_height": null,
            "align_content": null,
            "visibility": null,
            "align_self": null,
            "height": null,
            "min_height": null,
            "padding": null,
            "grid_auto_rows": null,
            "grid_gap": null,
            "max_width": null,
            "order": null,
            "_view_module_version": "1.2.0",
            "grid_template_areas": null,
            "object_position": null,
            "object_fit": null,
            "grid_auto_columns": null,
            "margin": null,
            "display": null,
            "left": null
          }
        },
        "b60a6b1af9b44a168f68684897ee4e9b": {
          "model_module": "@jupyter-widgets/controls",
          "model_name": "HBoxModel",
          "state": {
            "_view_name": "HBoxView",
            "_dom_classes": [],
            "_model_name": "HBoxModel",
            "_view_module": "@jupyter-widgets/controls",
            "_model_module_version": "1.5.0",
            "_view_count": null,
            "_view_module_version": "1.5.0",
            "box_style": "",
            "layout": "IPY_MODEL_43ec8e0ba3344f07937df46a4f3b168c",
            "_model_module": "@jupyter-widgets/controls",
            "children": [
              "IPY_MODEL_76211383f57846e0bed7ec698368cdf2",
              "IPY_MODEL_394de0f49cb443059ce40ba07b046133"
            ]
          }
        },
        "43ec8e0ba3344f07937df46a4f3b168c": {
          "model_module": "@jupyter-widgets/base",
          "model_name": "LayoutModel",
          "state": {
            "_view_name": "LayoutView",
            "grid_template_rows": null,
            "right": null,
            "justify_content": null,
            "_view_module": "@jupyter-widgets/base",
            "overflow": null,
            "_model_module_version": "1.2.0",
            "_view_count": null,
            "flex_flow": null,
            "width": null,
            "min_width": null,
            "border": null,
            "align_items": null,
            "bottom": null,
            "_model_module": "@jupyter-widgets/base",
            "top": null,
            "grid_column": null,
            "overflow_y": null,
            "overflow_x": null,
            "grid_auto_flow": null,
            "grid_area": null,
            "grid_template_columns": null,
            "flex": null,
            "_model_name": "LayoutModel",
            "justify_items": null,
            "grid_row": null,
            "max_height": null,
            "align_content": null,
            "visibility": null,
            "align_self": null,
            "height": null,
            "min_height": null,
            "padding": null,
            "grid_auto_rows": null,
            "grid_gap": null,
            "max_width": null,
            "order": null,
            "_view_module_version": "1.2.0",
            "grid_template_areas": null,
            "object_position": null,
            "object_fit": null,
            "grid_auto_columns": null,
            "margin": null,
            "display": null,
            "left": null
          }
        },
        "76211383f57846e0bed7ec698368cdf2": {
          "model_module": "@jupyter-widgets/controls",
          "model_name": "FloatProgressModel",
          "state": {
            "_view_name": "ProgressView",
            "style": "IPY_MODEL_d2ec336241474b9a923c2cf59a75e160",
            "_dom_classes": [],
            "description": "Downloading: 100%",
            "_model_name": "FloatProgressModel",
            "bar_style": "success",
            "max": 466062,
            "_view_module": "@jupyter-widgets/controls",
            "_model_module_version": "1.5.0",
            "value": 466062,
            "_view_count": null,
            "_view_module_version": "1.5.0",
            "orientation": "horizontal",
            "min": 0,
            "description_tooltip": null,
            "_model_module": "@jupyter-widgets/controls",
            "layout": "IPY_MODEL_568d6937b8574f438158109a7b11fcba"
          }
        },
        "394de0f49cb443059ce40ba07b046133": {
          "model_module": "@jupyter-widgets/controls",
          "model_name": "HTMLModel",
          "state": {
            "_view_name": "HTMLView",
            "style": "IPY_MODEL_31705c0e467f4d7ead2009121c660019",
            "_dom_classes": [],
            "description": "",
            "_model_name": "HTMLModel",
            "placeholder": "​",
            "_view_module": "@jupyter-widgets/controls",
            "_model_module_version": "1.5.0",
            "value": " 466k/466k [00:00&lt;00:00, 2.83MB/s]",
            "_view_count": null,
            "_view_module_version": "1.5.0",
            "description_tooltip": null,
            "_model_module": "@jupyter-widgets/controls",
            "layout": "IPY_MODEL_475d9d6c122640778303182712072860"
          }
        },
        "d2ec336241474b9a923c2cf59a75e160": {
          "model_module": "@jupyter-widgets/controls",
          "model_name": "ProgressStyleModel",
          "state": {
            "_view_name": "StyleView",
            "_model_name": "ProgressStyleModel",
            "description_width": "initial",
            "_view_module": "@jupyter-widgets/base",
            "_model_module_version": "1.5.0",
            "_view_count": null,
            "_view_module_version": "1.2.0",
            "bar_color": null,
            "_model_module": "@jupyter-widgets/controls"
          }
        },
        "568d6937b8574f438158109a7b11fcba": {
          "model_module": "@jupyter-widgets/base",
          "model_name": "LayoutModel",
          "state": {
            "_view_name": "LayoutView",
            "grid_template_rows": null,
            "right": null,
            "justify_content": null,
            "_view_module": "@jupyter-widgets/base",
            "overflow": null,
            "_model_module_version": "1.2.0",
            "_view_count": null,
            "flex_flow": null,
            "width": null,
            "min_width": null,
            "border": null,
            "align_items": null,
            "bottom": null,
            "_model_module": "@jupyter-widgets/base",
            "top": null,
            "grid_column": null,
            "overflow_y": null,
            "overflow_x": null,
            "grid_auto_flow": null,
            "grid_area": null,
            "grid_template_columns": null,
            "flex": null,
            "_model_name": "LayoutModel",
            "justify_items": null,
            "grid_row": null,
            "max_height": null,
            "align_content": null,
            "visibility": null,
            "align_self": null,
            "height": null,
            "min_height": null,
            "padding": null,
            "grid_auto_rows": null,
            "grid_gap": null,
            "max_width": null,
            "order": null,
            "_view_module_version": "1.2.0",
            "grid_template_areas": null,
            "object_position": null,
            "object_fit": null,
            "grid_auto_columns": null,
            "margin": null,
            "display": null,
            "left": null
          }
        },
        "31705c0e467f4d7ead2009121c660019": {
          "model_module": "@jupyter-widgets/controls",
          "model_name": "DescriptionStyleModel",
          "state": {
            "_view_name": "StyleView",
            "_model_name": "DescriptionStyleModel",
            "description_width": "",
            "_view_module": "@jupyter-widgets/base",
            "_model_module_version": "1.5.0",
            "_view_count": null,
            "_view_module_version": "1.2.0",
            "_model_module": "@jupyter-widgets/controls"
          }
        },
        "475d9d6c122640778303182712072860": {
          "model_module": "@jupyter-widgets/base",
          "model_name": "LayoutModel",
          "state": {
            "_view_name": "LayoutView",
            "grid_template_rows": null,
            "right": null,
            "justify_content": null,
            "_view_module": "@jupyter-widgets/base",
            "overflow": null,
            "_model_module_version": "1.2.0",
            "_view_count": null,
            "flex_flow": null,
            "width": null,
            "min_width": null,
            "border": null,
            "align_items": null,
            "bottom": null,
            "_model_module": "@jupyter-widgets/base",
            "top": null,
            "grid_column": null,
            "overflow_y": null,
            "overflow_x": null,
            "grid_auto_flow": null,
            "grid_area": null,
            "grid_template_columns": null,
            "flex": null,
            "_model_name": "LayoutModel",
            "justify_items": null,
            "grid_row": null,
            "max_height": null,
            "align_content": null,
            "visibility": null,
            "align_self": null,
            "height": null,
            "min_height": null,
            "padding": null,
            "grid_auto_rows": null,
            "grid_gap": null,
            "max_width": null,
            "order": null,
            "_view_module_version": "1.2.0",
            "grid_template_areas": null,
            "object_position": null,
            "object_fit": null,
            "grid_auto_columns": null,
            "margin": null,
            "display": null,
            "left": null
          }
        }
      }
    }
  },
  "cells": [
    {
      "cell_type": "markdown",
      "metadata": {
        "id": "view-in-github",
        "colab_type": "text"
      },
      "source": [
        "<a href=\"https://colab.research.google.com/github/NeelKanwal/BERTOLOGY-Based-Extractive-Summarization-for-Clinical-Notes/blob/master/BaslineApproaches.ipynb\" target=\"_parent\"><img src=\"https://colab.research.google.com/assets/colab-badge.svg\" alt=\"Open In Colab\"/></a>"
      ]
    },
    {
      "cell_type": "code",
      "metadata": {
        "id": "yZQi6oD_HSvS",
        "colab": {
          "base_uri": "https://localhost:8080/"
        },
        "outputId": "184598f8-baa4-41bd-f547-135e742457e0"
      },
      "source": [
        "!pip install -U spacy\n",
        "!python -m spacy download en_core_web_lg\n",
        "!pip install jsonlines"
      ],
      "execution_count": 5,
      "outputs": [
        {
          "output_type": "stream",
          "text": [
            "Collecting spacy\n",
            "\u001b[?25l  Downloading https://files.pythonhosted.org/packages/3a/70/a0b8bd0cb54d8739ba4d6fb3458785c3b9b812b7fbe93b0f10beb1a53ada/spacy-3.0.5-cp37-cp37m-manylinux2014_x86_64.whl (12.8MB)\n",
            "\u001b[K     |████████████████████████████████| 12.8MB 310kB/s \n",
            "\u001b[?25hCollecting srsly<3.0.0,>=2.4.0\n",
            "\u001b[?25l  Downloading https://files.pythonhosted.org/packages/c3/84/dfdfc9f6f04f6b88207d96d9520b911e5fec0c67ff47a0dea31ab5429a1e/srsly-2.4.1-cp37-cp37m-manylinux2014_x86_64.whl (456kB)\n",
            "\u001b[K     |████████████████████████████████| 460kB 45.6MB/s \n",
            "\u001b[?25hCollecting thinc<8.1.0,>=8.0.2\n",
            "\u001b[?25l  Downloading https://files.pythonhosted.org/packages/e3/08/20e707519bcded1a0caa6fd024b767ac79e4e5d0fb92266bb7dcf735e338/thinc-8.0.2-cp37-cp37m-manylinux2014_x86_64.whl (1.1MB)\n",
            "\u001b[K     |████████████████████████████████| 1.1MB 56.5MB/s \n",
            "\u001b[?25hCollecting pydantic<1.8.0,>=1.7.1\n",
            "\u001b[?25l  Downloading https://files.pythonhosted.org/packages/b3/0a/52ae1c659fc08f13dd7c0ae07b88e4f807ad83fb9954a59b0b0a3d1a8ab6/pydantic-1.7.3-cp37-cp37m-manylinux2014_x86_64.whl (9.1MB)\n",
            "\u001b[K     |████████████████████████████████| 9.1MB 52.8MB/s \n",
            "\u001b[?25hRequirement already satisfied, skipping upgrade: typing-extensions<4.0.0.0,>=3.7.4; python_version < \"3.8\" in /usr/local/lib/python3.7/dist-packages (from spacy) (3.7.4.3)\n",
            "Requirement already satisfied, skipping upgrade: cymem<2.1.0,>=2.0.2 in /usr/local/lib/python3.7/dist-packages (from spacy) (2.0.5)\n",
            "Requirement already satisfied, skipping upgrade: requests<3.0.0,>=2.13.0 in /usr/local/lib/python3.7/dist-packages (from spacy) (2.23.0)\n",
            "Requirement already satisfied, skipping upgrade: wasabi<1.1.0,>=0.8.1 in /usr/local/lib/python3.7/dist-packages (from spacy) (0.8.2)\n",
            "Requirement already satisfied, skipping upgrade: blis<0.8.0,>=0.4.0 in /usr/local/lib/python3.7/dist-packages (from spacy) (0.4.1)\n",
            "Collecting pathy>=0.3.5\n",
            "  Downloading https://files.pythonhosted.org/packages/a2/53/97dc0197cca9357369b3b71bf300896cf2d3604fa60ffaaf5cbc277de7de/pathy-0.4.0-py3-none-any.whl\n",
            "Requirement already satisfied, skipping upgrade: numpy>=1.15.0 in /usr/local/lib/python3.7/dist-packages (from spacy) (1.19.5)\n",
            "Requirement already satisfied, skipping upgrade: preshed<3.1.0,>=3.0.2 in /usr/local/lib/python3.7/dist-packages (from spacy) (3.0.5)\n",
            "Collecting catalogue<2.1.0,>=2.0.1\n",
            "  Downloading https://files.pythonhosted.org/packages/de/68/027c9f70a58fa4d76521d94237e305247fca196d374635b339401ebed5d8/catalogue-2.0.2-py3-none-any.whl\n",
            "Requirement already satisfied, skipping upgrade: importlib-metadata>=0.20; python_version < \"3.8\" in /usr/local/lib/python3.7/dist-packages (from spacy) (3.10.0)\n",
            "Requirement already satisfied, skipping upgrade: jinja2 in /usr/local/lib/python3.7/dist-packages (from spacy) (2.11.3)\n",
            "Collecting spacy-legacy<3.1.0,>=3.0.0\n",
            "  Downloading https://files.pythonhosted.org/packages/78/d8/e25bc7f99877de34def57d36769f0cce4e895b374cdc766718efc724f9ac/spacy_legacy-3.0.2-py2.py3-none-any.whl\n",
            "Collecting typer<0.4.0,>=0.3.0\n",
            "  Downloading https://files.pythonhosted.org/packages/90/34/d138832f6945432c638f32137e6c79a3b682f06a63c488dcfaca6b166c64/typer-0.3.2-py3-none-any.whl\n",
            "Requirement already satisfied, skipping upgrade: tqdm<5.0.0,>=4.38.0 in /usr/local/lib/python3.7/dist-packages (from spacy) (4.41.1)\n",
            "Requirement already satisfied, skipping upgrade: setuptools in /usr/local/lib/python3.7/dist-packages (from spacy) (54.2.0)\n",
            "Requirement already satisfied, skipping upgrade: packaging>=20.0 in /usr/local/lib/python3.7/dist-packages (from spacy) (20.9)\n",
            "Requirement already satisfied, skipping upgrade: murmurhash<1.1.0,>=0.28.0 in /usr/local/lib/python3.7/dist-packages (from spacy) (1.0.5)\n",
            "Requirement already satisfied, skipping upgrade: urllib3!=1.25.0,!=1.25.1,<1.26,>=1.21.1 in /usr/local/lib/python3.7/dist-packages (from requests<3.0.0,>=2.13.0->spacy) (1.24.3)\n",
            "Requirement already satisfied, skipping upgrade: idna<3,>=2.5 in /usr/local/lib/python3.7/dist-packages (from requests<3.0.0,>=2.13.0->spacy) (2.10)\n",
            "Requirement already satisfied, skipping upgrade: certifi>=2017.4.17 in /usr/local/lib/python3.7/dist-packages (from requests<3.0.0,>=2.13.0->spacy) (2020.12.5)\n",
            "Requirement already satisfied, skipping upgrade: chardet<4,>=3.0.2 in /usr/local/lib/python3.7/dist-packages (from requests<3.0.0,>=2.13.0->spacy) (3.0.4)\n",
            "Collecting smart-open<4.0.0,>=2.2.0\n",
            "\u001b[?25l  Downloading https://files.pythonhosted.org/packages/11/9a/ba2d5f67f25e8d5bbf2fcec7a99b1e38428e83cb715f64dd179ca43a11bb/smart_open-3.0.0.tar.gz (113kB)\n",
            "\u001b[K     |████████████████████████████████| 122kB 44.9MB/s \n",
            "\u001b[?25hRequirement already satisfied, skipping upgrade: zipp>=0.5 in /usr/local/lib/python3.7/dist-packages (from importlib-metadata>=0.20; python_version < \"3.8\"->spacy) (3.4.1)\n",
            "Requirement already satisfied, skipping upgrade: MarkupSafe>=0.23 in /usr/local/lib/python3.7/dist-packages (from jinja2->spacy) (1.1.1)\n",
            "Requirement already satisfied, skipping upgrade: click<7.2.0,>=7.1.1 in /usr/local/lib/python3.7/dist-packages (from typer<0.4.0,>=0.3.0->spacy) (7.1.2)\n",
            "Requirement already satisfied, skipping upgrade: pyparsing>=2.0.2 in /usr/local/lib/python3.7/dist-packages (from packaging>=20.0->spacy) (2.4.7)\n",
            "Building wheels for collected packages: smart-open\n",
            "  Building wheel for smart-open (setup.py) ... \u001b[?25l\u001b[?25hdone\n",
            "  Created wheel for smart-open: filename=smart_open-3.0.0-cp37-none-any.whl size=107098 sha256=a6565e8ffbae1c32fb8e19be74ff6bacc89c3bb0a2651dcbb16eceaf40e2d447\n",
            "  Stored in directory: /root/.cache/pip/wheels/18/88/7c/f06dabd5e9cabe02d2269167bcacbbf9b47d0c0ff7d6ebcb78\n",
            "Successfully built smart-open\n",
            "\u001b[31mERROR: catalogue 2.0.2 has requirement importlib-metadata<3.3.0,>=0.20; python_version < \"3.8\", but you'll have importlib-metadata 3.10.0 which is incompatible.\u001b[0m\n",
            "Installing collected packages: catalogue, srsly, pydantic, thinc, smart-open, typer, pathy, spacy-legacy, spacy\n",
            "  Found existing installation: catalogue 1.0.0\n",
            "    Uninstalling catalogue-1.0.0:\n",
            "      Successfully uninstalled catalogue-1.0.0\n",
            "  Found existing installation: srsly 1.0.5\n",
            "    Uninstalling srsly-1.0.5:\n",
            "      Successfully uninstalled srsly-1.0.5\n",
            "  Found existing installation: thinc 7.4.0\n",
            "    Uninstalling thinc-7.4.0:\n",
            "      Successfully uninstalled thinc-7.4.0\n",
            "  Found existing installation: smart-open 5.0.0\n",
            "    Uninstalling smart-open-5.0.0:\n",
            "      Successfully uninstalled smart-open-5.0.0\n",
            "  Found existing installation: spacy 2.2.4\n",
            "    Uninstalling spacy-2.2.4:\n",
            "      Successfully uninstalled spacy-2.2.4\n",
            "Successfully installed catalogue-2.0.2 pathy-0.4.0 pydantic-1.7.3 smart-open-3.0.0 spacy-3.0.5 spacy-legacy-3.0.2 srsly-2.4.1 thinc-8.0.2 typer-0.3.2\n",
            "2021-04-15 07:10:13.771698: I tensorflow/stream_executor/platform/default/dso_loader.cc:49] Successfully opened dynamic library libcudart.so.11.0\n",
            "Collecting en-core-web-lg==3.0.0\n",
            "\u001b[?25l  Downloading https://github.com/explosion/spacy-models/releases/download/en_core_web_lg-3.0.0/en_core_web_lg-3.0.0-py3-none-any.whl (778.8MB)\n",
            "\u001b[K     |████████████████████████████████| 778.8MB 23kB/s \n",
            "\u001b[?25hRequirement already satisfied: spacy<3.1.0,>=3.0.0 in /usr/local/lib/python3.7/dist-packages (from en-core-web-lg==3.0.0) (3.0.5)\n",
            "Requirement already satisfied: pathy>=0.3.5 in /usr/local/lib/python3.7/dist-packages (from spacy<3.1.0,>=3.0.0->en-core-web-lg==3.0.0) (0.4.0)\n",
            "Requirement already satisfied: typer<0.4.0,>=0.3.0 in /usr/local/lib/python3.7/dist-packages (from spacy<3.1.0,>=3.0.0->en-core-web-lg==3.0.0) (0.3.2)\n",
            "Requirement already satisfied: setuptools in /usr/local/lib/python3.7/dist-packages (from spacy<3.1.0,>=3.0.0->en-core-web-lg==3.0.0) (54.2.0)\n",
            "Requirement already satisfied: catalogue<2.1.0,>=2.0.1 in /usr/local/lib/python3.7/dist-packages (from spacy<3.1.0,>=3.0.0->en-core-web-lg==3.0.0) (2.0.2)\n",
            "Requirement already satisfied: pydantic<1.8.0,>=1.7.1 in /usr/local/lib/python3.7/dist-packages (from spacy<3.1.0,>=3.0.0->en-core-web-lg==3.0.0) (1.7.3)\n",
            "Requirement already satisfied: preshed<3.1.0,>=3.0.2 in /usr/local/lib/python3.7/dist-packages (from spacy<3.1.0,>=3.0.0->en-core-web-lg==3.0.0) (3.0.5)\n",
            "Requirement already satisfied: murmurhash<1.1.0,>=0.28.0 in /usr/local/lib/python3.7/dist-packages (from spacy<3.1.0,>=3.0.0->en-core-web-lg==3.0.0) (1.0.5)\n",
            "Requirement already satisfied: blis<0.8.0,>=0.4.0 in /usr/local/lib/python3.7/dist-packages (from spacy<3.1.0,>=3.0.0->en-core-web-lg==3.0.0) (0.4.1)\n",
            "Requirement already satisfied: tqdm<5.0.0,>=4.38.0 in /usr/local/lib/python3.7/dist-packages (from spacy<3.1.0,>=3.0.0->en-core-web-lg==3.0.0) (4.41.1)\n",
            "Requirement already satisfied: typing-extensions<4.0.0.0,>=3.7.4; python_version < \"3.8\" in /usr/local/lib/python3.7/dist-packages (from spacy<3.1.0,>=3.0.0->en-core-web-lg==3.0.0) (3.7.4.3)\n",
            "Requirement already satisfied: thinc<8.1.0,>=8.0.2 in /usr/local/lib/python3.7/dist-packages (from spacy<3.1.0,>=3.0.0->en-core-web-lg==3.0.0) (8.0.2)\n",
            "Requirement already satisfied: cymem<2.1.0,>=2.0.2 in /usr/local/lib/python3.7/dist-packages (from spacy<3.1.0,>=3.0.0->en-core-web-lg==3.0.0) (2.0.5)\n",
            "Requirement already satisfied: importlib-metadata>=0.20; python_version < \"3.8\" in /usr/local/lib/python3.7/dist-packages (from spacy<3.1.0,>=3.0.0->en-core-web-lg==3.0.0) (3.10.0)\n",
            "Requirement already satisfied: spacy-legacy<3.1.0,>=3.0.0 in /usr/local/lib/python3.7/dist-packages (from spacy<3.1.0,>=3.0.0->en-core-web-lg==3.0.0) (3.0.2)\n",
            "Requirement already satisfied: wasabi<1.1.0,>=0.8.1 in /usr/local/lib/python3.7/dist-packages (from spacy<3.1.0,>=3.0.0->en-core-web-lg==3.0.0) (0.8.2)\n",
            "Requirement already satisfied: requests<3.0.0,>=2.13.0 in /usr/local/lib/python3.7/dist-packages (from spacy<3.1.0,>=3.0.0->en-core-web-lg==3.0.0) (2.23.0)\n",
            "Requirement already satisfied: jinja2 in /usr/local/lib/python3.7/dist-packages (from spacy<3.1.0,>=3.0.0->en-core-web-lg==3.0.0) (2.11.3)\n",
            "Requirement already satisfied: packaging>=20.0 in /usr/local/lib/python3.7/dist-packages (from spacy<3.1.0,>=3.0.0->en-core-web-lg==3.0.0) (20.9)\n",
            "Requirement already satisfied: srsly<3.0.0,>=2.4.0 in /usr/local/lib/python3.7/dist-packages (from spacy<3.1.0,>=3.0.0->en-core-web-lg==3.0.0) (2.4.1)\n",
            "Requirement already satisfied: numpy>=1.15.0 in /usr/local/lib/python3.7/dist-packages (from spacy<3.1.0,>=3.0.0->en-core-web-lg==3.0.0) (1.19.5)\n",
            "Requirement already satisfied: smart-open<4.0.0,>=2.2.0 in /usr/local/lib/python3.7/dist-packages (from pathy>=0.3.5->spacy<3.1.0,>=3.0.0->en-core-web-lg==3.0.0) (3.0.0)\n",
            "Requirement already satisfied: click<7.2.0,>=7.1.1 in /usr/local/lib/python3.7/dist-packages (from typer<0.4.0,>=0.3.0->spacy<3.1.0,>=3.0.0->en-core-web-lg==3.0.0) (7.1.2)\n",
            "Requirement already satisfied: zipp>=0.5 in /usr/local/lib/python3.7/dist-packages (from importlib-metadata>=0.20; python_version < \"3.8\"->spacy<3.1.0,>=3.0.0->en-core-web-lg==3.0.0) (3.4.1)\n",
            "Requirement already satisfied: idna<3,>=2.5 in /usr/local/lib/python3.7/dist-packages (from requests<3.0.0,>=2.13.0->spacy<3.1.0,>=3.0.0->en-core-web-lg==3.0.0) (2.10)\n",
            "Requirement already satisfied: certifi>=2017.4.17 in /usr/local/lib/python3.7/dist-packages (from requests<3.0.0,>=2.13.0->spacy<3.1.0,>=3.0.0->en-core-web-lg==3.0.0) (2020.12.5)\n",
            "Requirement already satisfied: urllib3!=1.25.0,!=1.25.1,<1.26,>=1.21.1 in /usr/local/lib/python3.7/dist-packages (from requests<3.0.0,>=2.13.0->spacy<3.1.0,>=3.0.0->en-core-web-lg==3.0.0) (1.24.3)\n",
            "Requirement already satisfied: chardet<4,>=3.0.2 in /usr/local/lib/python3.7/dist-packages (from requests<3.0.0,>=2.13.0->spacy<3.1.0,>=3.0.0->en-core-web-lg==3.0.0) (3.0.4)\n",
            "Requirement already satisfied: MarkupSafe>=0.23 in /usr/local/lib/python3.7/dist-packages (from jinja2->spacy<3.1.0,>=3.0.0->en-core-web-lg==3.0.0) (1.1.1)\n",
            "Requirement already satisfied: pyparsing>=2.0.2 in /usr/local/lib/python3.7/dist-packages (from packaging>=20.0->spacy<3.1.0,>=3.0.0->en-core-web-lg==3.0.0) (2.4.7)\n",
            "Installing collected packages: en-core-web-lg\n",
            "Successfully installed en-core-web-lg-3.0.0\n",
            "\u001b[38;5;2m✔ Download and installation successful\u001b[0m\n",
            "You can now load the package via spacy.load('en_core_web_lg')\n",
            "Collecting jsonlines\n",
            "  Downloading https://files.pythonhosted.org/packages/d4/58/06f430ff7607a2929f80f07bfd820acbc508a4e977542fefcc522cde9dff/jsonlines-2.0.0-py3-none-any.whl\n",
            "Installing collected packages: jsonlines\n",
            "Successfully installed jsonlines-2.0.0\n"
          ],
          "name": "stdout"
        }
      ]
    },
    {
      "cell_type": "markdown",
      "metadata": {
        "id": "tusA8zf8BGP9"
      },
      "source": [
        "Loading  Data from a Demo of 100 Summaries. \n",
        "https://physionet.org/content/mimiciii-demo/1.4/\n"
      ]
    },
    {
      "cell_type": "code",
      "metadata": {
        "id": "JNSzaC_vPDzD"
      },
      "source": [
        "import jsonlines as js\n",
        "book = []\n",
        "with js.open(\"notes.ndjson\") as reader:\n",
        "  num = 0\n",
        "  for summary in reader:\n",
        "    if num<100:\n",
        "        book.append(summary[2])\n",
        "        num = num + 1\n",
        "\n",
        "clinical_notes = [\" \".join( sum(book[i],[])) for i in range(100)]"
      ],
      "execution_count": 6,
      "outputs": []
    },
    {
      "cell_type": "code",
      "metadata": {
        "id": "iSBTkG3eUe6C",
        "colab": {
          "base_uri": "https://localhost:8080/"
        },
        "outputId": "644ae4a4-d4d3-43ae-e958-53c1d3badc2e"
      },
      "source": [
        "# Total Discharge summaries we have for establishing the experiment\n",
        "print(len(clinical_notes))"
      ],
      "execution_count": 7,
      "outputs": [
        {
          "output_type": "stream",
          "text": [
            "100\n"
          ],
          "name": "stdout"
        }
      ]
    },
    {
      "cell_type": "code",
      "metadata": {
        "id": "iwcYS-PjAzA4"
      },
      "source": [
        "#Evaluation Criteria Based on probabilty distribution sripada et al .\n",
        "from scipy.stats import entropy\n",
        "from scipy.spatial import distance\n",
        "\n",
        "from collections import Counter\n",
        "from collections import OrderedDict\n",
        "\n",
        "def kld(summ, org): \n",
        "        dist_original=Counter(org.lower().split())\n",
        "        dist_summary=Counter(summ.lower().split())\n",
        "        q = list(dist_original.values())\n",
        "        p=list(dist_summary.values())\n",
        "        a=min(len(p),len(q))\n",
        "        return entropy(p[0:a],qk=q[0:a])\n",
        " \n",
        "def jsd(summ,org):\n",
        "        dist_original=Counter(org.lower().split())\n",
        "        dist_summary=Counter(summ.lower().split())\n",
        "        p = list(dist_original.values())\n",
        "        q = list(dist_summary.values())\n",
        "        a=min(len(p),len(q))\n",
        "        return distance.jensenshannon(p[0:a],q[0:a])"
      ],
      "execution_count": null,
      "outputs": []
    },
    {
      "cell_type": "markdown",
      "metadata": {
        "id": "o9AKnSkFArGb"
      },
      "source": [
        "#Frequency Based Summarizer\n"
      ]
    },
    {
      "cell_type": "code",
      "metadata": {
        "id": "ic1txRFcHJiK"
      },
      "source": [
        "import spacy\n",
        "from collections import Counter\n",
        "from string import punctuation\n",
        "import en_core_web_lg\n",
        "nlp = en_core_web_lg.load()\n",
        "# nlp = spacy.load(\"en_core_web_lg\")"
      ],
      "execution_count": null,
      "outputs": []
    },
    {
      "cell_type": "code",
      "metadata": {
        "id": "gpV5VPDu9ZhA"
      },
      "source": [
        "# Function using POS summarization based on idea similar to Edmundson et al\n",
        "def summarize(text):\n",
        "    keyword = []\n",
        "    pos_tag = ['PROPN', 'ADJ', 'NOUN', 'VERB']\n",
        "    doc = nlp(text.lower())\n",
        "    for token in doc:\n",
        "        if(token.text in nlp.Defaults.stop_words or token.text in punctuation):\n",
        "            continue\n",
        "        if(token.pos_ in pos_tag):\n",
        "            keyword.append(token.text)\n",
        "    \n",
        "    freq_word = Counter(keyword)\n",
        "    max_freq = Counter(keyword).most_common(1)[0][1]\n",
        "    for w in freq_word:\n",
        "        freq_word[w] = (freq_word[w]/max_freq)\n",
        "        \n",
        "    sent_strength={}\n",
        "    for sent in doc.sents:\n",
        "        for word in sent:\n",
        "            if word.text in freq_word.keys():\n",
        "                if sent in sent_strength.keys():\n",
        "                    sent_strength[sent]+=freq_word[word.text]\n",
        "                else:\n",
        "                    sent_strength[sent]=freq_word[word.text] \n",
        "    summary = []\n",
        "    \n",
        "    sorted_x = sorted(sent_strength.items(), key=lambda kv: kv[1], reverse=True)\n",
        "    limit=len(sorted_x)/15\n",
        "    counter = 0\n",
        "    for i in range(len(sorted_x)):\n",
        "        summary.append(str(sorted_x[i][0]).capitalize())\n",
        "\n",
        "        counter += 1\n",
        "        if(counter >= limit):\n",
        "            break\n",
        "            \n",
        "    return ' '.join(summary)"
      ],
      "execution_count": null,
      "outputs": []
    },
    {
      "cell_type": "code",
      "metadata": {
        "id": "HMhotlbgOjJ1",
        "colab": {
          "base_uri": "https://localhost:8080/",
          "height": 54
        },
        "outputId": "6922c555-4f2c-4f6e-df06-50384b1fea74"
      },
      "source": [
        "summary=[summarize(note) for note in clinical_notes]\n",
        "summary[0]"
      ],
      "execution_count": null,
      "outputs": [
        {
          "output_type": "execute_result",
          "data": {
            "text/plain": [
              "'Disp tablet s refills ranitidine hcl mg tablet sig one tablet po daily daily disp tablet s refills tramadol mg tablet sig Tablet sig two tablet po q6h every hours as needed for pain tablet s senna mg tablet sig One tablet po daily daily disp tablet s refills furosemide mg tablet sig Mitral valve repair coronary artery bypass graft x left internal mammary artery to left anterior descending history of present illness year old female who was told she had mvp since age currently quite active but has noticed some dyspnea on exertion when walking up hills most recent echo revealed severe mvp and moderate to severe Daily daily disp tablet delayed release e.c. s refills docusate sodium mg capsule sig one capsule po bid times Disp tablet er particles crystals s refills discharge disposition home with service facility hospitaltoken vna discharge diagnosis mitral regurgitation coronary artery artery disease s Aspirin mg tablet delayed release e.c. sig one tablet delayed release e.c. po'"
            ]
          },
          "metadata": {
            "tags": []
          },
          "execution_count": 39
        }
      ]
    },
    {
      "cell_type": "code",
      "metadata": {
        "id": "ubXa8xFAi-QN",
        "colab": {
          "base_uri": "https://localhost:8080/",
          "height": 34
        },
        "outputId": "584de5cb-56d0-4a0f-d1e4-5974c376cf4b"
      },
      "source": [
        "len(summary[0])"
      ],
      "execution_count": null,
      "outputs": [
        {
          "output_type": "execute_result",
          "data": {
            "text/plain": [
              "989"
            ]
          },
          "metadata": {
            "tags": []
          },
          "execution_count": 40
        }
      ]
    },
    {
      "cell_type": "code",
      "metadata": {
        "id": "LAqwg0FMi_5u",
        "colab": {
          "base_uri": "https://localhost:8080/",
          "height": 71
        },
        "outputId": "146ed3b4-13b3-47da-ce02-2aa16a9da0ac"
      },
      "source": [
        "from collections import Counter\n",
        "from collections import OrderedDict\n",
        "#  forming a frequency distribution for words\n",
        "dist_original=Counter(clinical_notes[0].lower().split())\n",
        "dis_summary=Counter(summary[0].lower().split())\n",
        "\n",
        "print(list(dist_original.values()))\n",
        "print(list(dis_summary.values()))"
      ],
      "execution_count": null,
      "outputs": [
        {
          "output_type": "stream",
          "text": [
            "[3, 3, 12, 7, 5, 1, 1, 1, 1, 4, 1, 1, 1, 1, 1, 1, 1, 1, 2, 16, 2, 3, 1, 1, 3, 8, 2, 1, 8, 5, 3, 4, 6, 3, 3, 17, 11, 1, 1, 15, 1, 2, 5, 1, 1, 1, 1, 1, 1, 12, 1, 12, 1, 2, 1, 1, 1, 1, 1, 1, 1, 1, 1, 2, 1, 4, 1, 1, 1, 3, 1, 3, 16, 3, 3, 1, 18, 1, 2, 2, 4, 2, 2, 2, 2, 5, 12, 2, 2, 5, 2, 4, 2, 2, 2, 2, 2, 11, 4, 2, 2, 6, 1, 1, 1, 2, 2, 2, 1, 1, 2, 1, 1, 1, 1, 1, 1, 1, 1, 1, 1, 8, 1, 1, 1, 1, 1, 1, 1, 1, 11, 1, 1, 1, 1, 1, 1, 1, 1, 6, 1, 1, 2, 1, 1, 1, 1, 4, 1, 1, 1, 1, 1, 3, 1, 1, 1, 2, 1, 11, 1, 1, 1, 2, 2, 1, 1, 1, 1, 1, 1, 1, 1, 1, 2, 1, 1, 1, 1, 1, 1, 1, 4, 1, 2, 3, 1, 1, 1, 1, 1, 1, 1, 1, 1, 1, 1, 2, 1, 1, 1, 1, 1, 1, 1, 1, 1, 1, 3, 2, 1, 1, 15, 3, 18, 1, 1, 7, 1, 2, 14, 1, 1, 1, 2, 1, 3, 1, 1, 1, 1, 1, 4, 1, 1, 1, 2, 2, 2, 1, 2, 3, 1, 1, 1, 1, 1, 1, 1, 1, 1, 1, 1, 1, 3, 1, 1, 1, 1, 1, 1, 1, 1, 1, 1, 1, 1, 1, 1, 1, 1, 1, 1, 3, 6, 2, 2, 2, 2, 2, 2, 2, 2, 2, 2, 2, 2, 2, 2, 2, 2, 2, 2, 1, 1, 15, 3, 1, 1, 1, 1, 4, 1, 8, 1, 1, 1, 2, 3, 1, 1, 1, 1, 1, 1, 1, 1, 8, 1, 1, 1, 2, 2, 1, 1, 1, 2, 1, 5, 1, 1, 1, 1, 1, 1, 2, 2, 1, 5, 1, 2, 1, 1, 3, 1, 1, 1, 1, 1, 1, 1, 2, 1, 2, 1, 1, 2, 1, 1, 1, 1, 2, 1, 1, 2, 2, 1, 2, 1, 1, 2, 2, 4, 1, 1, 1, 5, 2, 2, 1, 1, 1, 1, 1, 1, 1, 2, 1, 2, 1, 1, 2, 3, 1, 2, 1, 4, 1, 1, 1, 1, 2, 1, 1, 2, 1, 2, 1, 1, 1, 1, 3, 1, 1, 1, 1, 1, 1, 1, 1, 25, 3, 3, 3, 11, 8, 11, 8, 7, 7, 1, 2, 2, 3, 1, 1, 2, 1, 1, 1, 1, 3, 1, 1, 1, 2, 2, 1, 1, 1, 2, 2, 1, 1, 1, 1, 1, 1, 1, 1, 1, 3, 3, 3, 1, 1, 1, 1, 1, 1, 1, 1, 1, 1, 1, 1, 1, 1, 2, 2, 1, 1, 1, 1, 1, 1, 1, 1, 1, 2, 3, 1, 3, 1, 1, 1, 1, 1, 1, 3, 2, 1, 1, 1, 1, 1, 1, 1, 3, 1, 1, 1, 1, 1, 4, 1, 1, 1, 1, 1, 1, 1, 1, 2, 6, 3, 3, 3, 3, 1, 1, 1, 1, 1, 1, 1, 1, 1, 1, 3, 2, 2, 2, 2, 2, 2, 1, 1, 3, 2, 1, 1, 1, 1, 1, 1, 1, 1, 1]\n",
            "[5, 16, 7, 5, 1, 1, 6, 7, 4, 5, 6, 1, 1, 1, 1, 1, 1, 1, 1, 1, 1, 1, 2, 1, 1, 2, 4, 1, 1, 1, 2, 1, 1, 2, 1, 1, 1, 1, 1, 1, 1, 1, 1, 1, 1, 1, 1, 1, 2, 1, 1, 1, 1, 1, 1, 1, 1, 1, 1, 1, 1, 1, 1, 1, 1, 1, 1, 1, 1, 2, 1, 1, 3, 3, 3, 1, 1, 2, 1, 1, 1, 1, 1, 2, 1, 1, 1, 1, 1, 1, 1, 1, 1, 1, 1]\n"
          ],
          "name": "stdout"
        }
      ]
    },
    {
      "cell_type": "code",
      "metadata": {
        "id": "-foEH5t0mXXE",
        "colab": {
          "base_uri": "https://localhost:8080/",
          "height": 71
        },
        "outputId": "7da88d70-68e9-4253-c366-f67a2f7d8633"
      },
      "source": [
        "kld_freq=[kld(clinical_notes[i],summary[i]) for i in range(100)]\n",
        "print(kld_freq)\n",
        "jsd_freq=[jsd(summ,org) for org,summ in zip(clinical_notes,summary)]\n",
        "print(jsd_freq)"
      ],
      "execution_count": null,
      "outputs": [
        {
          "output_type": "stream",
          "text": [
            "[0.7199990163091441, 1.288577094003375, 0.6876781653361953, 1.0548275305953054, 0.822106467044532, 1.0250455035798383, 0.7642230697261388, 0.8861677097328216, 0.8133151448774971, 1.070300835591361, 0.8902506584557677, 1.0409563178920767, 0.9325518447723371, 0.876780478796326, 0.7527658673801978, 1.109862192707198, 0.9814609731836896, 1.3140823138880307, 0.6336290837851819, 0.5945883813485552, 0.9853710957839535, 0.6425021501485686, 0.7927687220316615, 1.0248072650693685, 0.7909853199013283, 0.917756720574602, 0.7840406497243342, 0.36351808643481, 0.7646289844561274, 0.7901441270581637, 1.3074442360423464, 1.1585353169123405, 0.8390222886295955, 0.7277708334637526, 0.9440759880626365, 1.0119889895584742, 0.4404568982928508, 0.809263712380167, 0.9257424674505709, 0.8088068380486474, 1.1703079980729523, 1.0009809316501646, 0.6645238775763517, 0.9657224564406461, 0.8211600933863579, 0.9475945948239577, 1.0045711656352914, 0.8222920904678139, 0.9173348150335361, 1.0650339501847848, 0.9150650487002507, 0.8592161332260143, 0.7760992513052745, 0.9899705820711331, 0.25402090348903744, 1.0738141312402973, 0.958779532547603, 0.8047759506636604, 0.8837316319163978, 1.0237833505131568, 1.0448370196047883, 0.7598523168375311, 0.7421577154953737, 0.7060657854315938, 0.9310896222377714, 0.7222608882096487, 1.0117940181455518, 1.235252849808724, 0.7749524468673616, 0.6028963762294497, 0.8497471330550408, 1.188247565159837, 1.1064630436808665, 0.8005052123107964, 0.943394967833588, 0.8352263506528074, 1.261395619257123, 0.9057660069747315, 0.7437664404687891, 0.8961443246169718, 0.992520711484797, 0.9310731755674274, 0.8276231800837823, 0.8482506953980145, 0.951658753833869, 0.6529169649183043, 0.6827022343894, 0.8240654539174791, 1.3381892931093735, 0.8883881871861411, 1.3539373370730008, 0.7983410280939688, 0.7374364832394635, 0.841450466192277, 0.7601875735059431, 0.49707873253014384, 0.8610639835107452, 1.0040131802807752, 1.244057337071036, 1.1587067148922152]\n",
            "[0.39720931225497386, 0.4852511366314636, 0.3872706804927176, 0.46340325681824046, 0.4099997986976341, 0.46005880733558646, 0.4002969489882648, 0.44234415036007135, 0.421925310099122, 0.4693768278740044, 0.4158760771563454, 0.45895034411578084, 0.4402055982830778, 0.41583161778047406, 0.3969658596406603, 0.4911221113095487, 0.445479559429233, 0.5046759063512024, 0.3713131621866397, 0.3478467357335101, 0.4340713440256459, 0.3749889088313121, 0.41151153011543545, 0.4588922511707417, 0.4091819540392327, 0.43419640905267, 0.4065440662077568, 0.2844284268589189, 0.40559652794340256, 0.4014378102932751, 0.4967820570737719, 0.4870344672921085, 0.4078101320044515, 0.4108891690505209, 0.43240798520967044, 0.44935119240437205, 0.30652719506018367, 0.4162684644669471, 0.4354268177375234, 0.39773859743967266, 0.4715521382530961, 0.447962003273332, 0.38610627249095786, 0.4315213182615697, 0.41408626881185323, 0.44327199859245164, 0.44658865113350443, 0.40915999634888267, 0.432579406441209, 0.46516287510699234, 0.43411307155006607, 0.4231658229357147, 0.3998127104906795, 0.45057579185007557, 0.2290297743715948, 0.4760834031030112, 0.4335523857629184, 0.41516752657671646, 0.43874027686937406, 0.4568945731781437, 0.47081245798217464, 0.4056472661746331, 0.3979407366977592, 0.37717446499159896, 0.4340829736581772, 0.3881235315133434, 0.44593482069341067, 0.4900066637617449, 0.4013769642616592, 0.3620793700689522, 0.42967583582364666, 0.5092855744997147, 0.4815715537389554, 0.4107153861102546, 0.4324135002174301, 0.41260020432057676, 0.47584168236171737, 0.45241197157420976, 0.39985777827917024, 0.44433796189167596, 0.4507521245052968, 0.43070964328348293, 0.4142477213322459, 0.4282527282335757, 0.4372838180953955, 0.37491735876279997, 0.3816171949760131, 0.42752970547470326, 0.4951776614304662, 0.43596184440374197, 0.5136152666821995, 0.41795562355788785, 0.4099793980911211, 0.4202847642635409, 0.4098869056748805, 0.32936378459450627, 0.4188613183589922, 0.4511300428259509, 0.48116143642937387, 0.4832579831809677]\n"
          ],
          "name": "stdout"
        }
      ]
    },
    {
      "cell_type": "code",
      "metadata": {
        "id": "GacXvRQ7lA0X",
        "colab": {
          "base_uri": "https://localhost:8080/",
          "height": 51
        },
        "outputId": "3efcee89-e6c3-49b8-bf83-b17c7a3ec4d5"
      },
      "source": [
        "import statistics as sc\n",
        "print(sc.mean(kld_freq))\n",
        "print(sc.mean(jsd_freq))"
      ],
      "execution_count": null,
      "outputs": [
        {
          "output_type": "stream",
          "text": [
            "0.8926305501713105\n",
            "0.42625451795996255\n"
          ],
          "name": "stdout"
        }
      ]
    },
    {
      "cell_type": "code",
      "metadata": {
        "id": "CbO6iU2LcTDU",
        "colab": {
          "base_uri": "https://localhost:8080/",
          "height": 887
        },
        "outputId": "accf1a19-35e7-4383-a673-ef162d719094"
      },
      "source": [
        "!pip install sumy\n",
        "!pip install lexrank"
      ],
      "execution_count": null,
      "outputs": [
        {
          "output_type": "stream",
          "text": [
            "Collecting sumy\n",
            "\u001b[?25l  Downloading https://files.pythonhosted.org/packages/61/20/8abf92617ec80a2ebaec8dc1646a790fc9656a4a4377ddb9f0cc90bc9326/sumy-0.8.1-py2.py3-none-any.whl (83kB)\n",
            "\r\u001b[K     |████                            | 10kB 10.8MB/s eta 0:00:01\r\u001b[K     |███████▉                        | 20kB 1.7MB/s eta 0:00:01\r\u001b[K     |███████████▊                    | 30kB 2.2MB/s eta 0:00:01\r\u001b[K     |███████████████▋                | 40kB 2.5MB/s eta 0:00:01\r\u001b[K     |███████████████████▌            | 51kB 2.0MB/s eta 0:00:01\r\u001b[K     |███████████████████████▍        | 61kB 2.3MB/s eta 0:00:01\r\u001b[K     |███████████████████████████▍    | 71kB 2.5MB/s eta 0:00:01\r\u001b[K     |███████████████████████████████▎| 81kB 2.7MB/s eta 0:00:01\r\u001b[K     |████████████████████████████████| 92kB 2.5MB/s \n",
            "\u001b[?25hRequirement already satisfied: docopt<0.7,>=0.6.1 in /usr/local/lib/python3.6/dist-packages (from sumy) (0.6.2)\n",
            "Requirement already satisfied: nltk>=3.0.2 in /usr/local/lib/python3.6/dist-packages (from sumy) (3.2.5)\n",
            "Collecting breadability>=0.1.20\n",
            "  Downloading https://files.pythonhosted.org/packages/ad/2d/bb6c9b381e6b6a432aa2ffa8f4afdb2204f1ff97cfcc0766a5b7683fec43/breadability-0.1.20.tar.gz\n",
            "Collecting pycountry>=18.2.23\n",
            "\u001b[?25l  Downloading https://files.pythonhosted.org/packages/16/b6/154fe93072051d8ce7bf197690957b6d0ac9a21d51c9a1d05bd7c6fdb16f/pycountry-19.8.18.tar.gz (10.0MB)\n",
            "\u001b[K     |████████████████████████████████| 10.0MB 7.4MB/s \n",
            "\u001b[?25hRequirement already satisfied: requests>=2.7.0 in /usr/local/lib/python3.6/dist-packages (from sumy) (2.23.0)\n",
            "Requirement already satisfied: six in /usr/local/lib/python3.6/dist-packages (from nltk>=3.0.2->sumy) (1.12.0)\n",
            "Requirement already satisfied: chardet in /usr/local/lib/python3.6/dist-packages (from breadability>=0.1.20->sumy) (3.0.4)\n",
            "Requirement already satisfied: lxml>=2.0 in /usr/local/lib/python3.6/dist-packages (from breadability>=0.1.20->sumy) (4.2.6)\n",
            "Requirement already satisfied: urllib3!=1.25.0,!=1.25.1,<1.26,>=1.21.1 in /usr/local/lib/python3.6/dist-packages (from requests>=2.7.0->sumy) (1.24.3)\n",
            "Requirement already satisfied: idna<3,>=2.5 in /usr/local/lib/python3.6/dist-packages (from requests>=2.7.0->sumy) (2.9)\n",
            "Requirement already satisfied: certifi>=2017.4.17 in /usr/local/lib/python3.6/dist-packages (from requests>=2.7.0->sumy) (2020.4.5.1)\n",
            "Building wheels for collected packages: breadability, pycountry\n",
            "  Building wheel for breadability (setup.py) ... \u001b[?25l\u001b[?25hdone\n",
            "  Created wheel for breadability: filename=breadability-0.1.20-py2.py3-none-any.whl size=21684 sha256=be59f5d3c7597a048bd9a93cd0b6285133054392fc90bf6db565f141f2eeab0c\n",
            "  Stored in directory: /root/.cache/pip/wheels/5a/4d/a1/510b12c5e65e0b2b3ce539b2af66da0fc57571e528924f4a52\n",
            "  Building wheel for pycountry (setup.py) ... \u001b[?25l\u001b[?25hdone\n",
            "  Created wheel for pycountry: filename=pycountry-19.8.18-py2.py3-none-any.whl size=10627361 sha256=7afccf72882b0b44c7fe6757b187fd8881449ff5ee490e4fe8805b20ec52bca8\n",
            "  Stored in directory: /root/.cache/pip/wheels/a2/98/bf/f0fa1c6bf8cf2cbdb750d583f84be51c2cd8272460b8b36bd3\n",
            "Successfully built breadability pycountry\n",
            "Installing collected packages: breadability, pycountry, sumy\n",
            "Successfully installed breadability-0.1.20 pycountry-19.8.18 sumy-0.8.1\n",
            "Collecting lexrank\n",
            "\u001b[?25l  Downloading https://files.pythonhosted.org/packages/e1/25/f139d8526e014b6bf6021305492cd7ccffbfa10999802fce4813808b04e4/lexrank-0.1.0-py3-none-any.whl (69kB)\n",
            "\u001b[K     |████████████████████████████████| 71kB 2.2MB/s \n",
            "\u001b[?25hRequirement already satisfied: scipy>=0.19.0 in /usr/local/lib/python3.6/dist-packages (from lexrank) (1.4.1)\n",
            "Collecting path.py>=10.5\n",
            "  Downloading https://files.pythonhosted.org/packages/a5/0d/4caee829b04e3113b7069fa52063bce5c78e374e05850aa893549e917a1a/path.py-12.4.0-py3-none-any.whl\n",
            "Requirement already satisfied: regex>=2017.11.9 in /usr/local/lib/python3.6/dist-packages (from lexrank) (2019.12.20)\n",
            "Requirement already satisfied: pyrsistent>=0.14.0 in /usr/local/lib/python3.6/dist-packages (from lexrank) (0.16.0)\n",
            "Collecting urlextract>=0.7\n",
            "  Downloading https://files.pythonhosted.org/packages/06/db/23b47f32d990dea1d9852ace16d551a0003bdfc8be33094cfd208757466e/urlextract-0.14.0-py3-none-any.whl\n",
            "Requirement already satisfied: numpy>=1.13.3 in /usr/local/lib/python3.6/dist-packages (from lexrank) (1.18.4)\n",
            "Collecting path<13.2\n",
            "  Downloading https://files.pythonhosted.org/packages/4d/24/5827e075036b5bb6b538f71bf39574d4a8024c5df51206cb9d6739e24d94/path-13.1.0-py3-none-any.whl\n",
            "Requirement already satisfied: six in /usr/local/lib/python3.6/dist-packages (from pyrsistent>=0.14.0->lexrank) (1.12.0)\n",
            "Collecting uritools\n",
            "  Downloading https://files.pythonhosted.org/packages/eb/1a/5995c0a000ef116111b9af9303349ba97ec2446d2c9a79d2df028a3e3b19/uritools-3.0.0-py3-none-any.whl\n",
            "Requirement already satisfied: idna in /usr/local/lib/python3.6/dist-packages (from urlextract>=0.7->lexrank) (2.9)\n",
            "Collecting appdirs\n",
            "  Downloading https://files.pythonhosted.org/packages/56/eb/810e700ed1349edde4cbdc1b2a21e28cdf115f9faf263f6bbf8447c1abf3/appdirs-1.4.3-py2.py3-none-any.whl\n",
            "Requirement already satisfied: importlib-metadata>=0.5; python_version < \"3.8\" in /usr/local/lib/python3.6/dist-packages (from path<13.2->path.py>=10.5->lexrank) (1.6.0)\n",
            "Requirement already satisfied: zipp>=0.5 in /usr/local/lib/python3.6/dist-packages (from importlib-metadata>=0.5; python_version < \"3.8\"->path<13.2->path.py>=10.5->lexrank) (3.1.0)\n",
            "Installing collected packages: path, path.py, uritools, appdirs, urlextract, lexrank\n",
            "Successfully installed appdirs-1.4.3 lexrank-0.1.0 path-13.1.0 path.py-12.4.0 uritools-3.0.0 urlextract-0.14.0\n"
          ],
          "name": "stdout"
        }
      ]
    },
    {
      "cell_type": "markdown",
      "metadata": {
        "id": "Qed_L4-Vb_fd"
      },
      "source": [
        "Algorithm\n",
        "It uses greedy optimization approach:\n",
        "\n",
        "Set S={} and d=0\n",
        "while |S|<= L do:\n",
        "for i in [1...ND] , di=KL(Ps||PD)\n",
        "Set S=S + Si with minimum di and d=di\n",
        "Stop if there is no i such that di:<d"
      ]
    },
    {
      "cell_type": "code",
      "metadata": {
        "id": "Xpqei5pxb-h8"
      },
      "source": [
        "# from sumy.summarizers.kl import KLSummarizer\n",
        "# from sumy.summarizers import AbstractSummarizer"
      ],
      "execution_count": null,
      "outputs": []
    },
    {
      "cell_type": "markdown",
      "metadata": {
        "id": "Toel7PTOgyN4"
      },
      "source": [
        "#Graph Based Summarization\n",
        "\n"
      ]
    },
    {
      "cell_type": "code",
      "metadata": {
        "id": "HrQS7Jnqg0l4",
        "colab": {
          "base_uri": "https://localhost:8080/",
          "height": 363
        },
        "outputId": "08875255-27b3-427f-9572-17ae1d12fa72"
      },
      "source": [
        "from sumy.summarizers.text_rank import TextRankSummarizer\n",
        "from sumy.summarizers.lex_rank import LexRankSummarizer \n",
        "from sumy.nlp.tokenizers import Tokenizer\n",
        "from sumy.parsers.plaintext import PlaintextParser\n",
        "import nltk\n",
        "nltk.download('punkt')\n",
        "\n",
        "# parser=PlaintextParser.from_string(clinical_notes,Tokenizer(\"english\"))\n",
        "summarizer_g = TextRankSummarizer()\n",
        "summarizer_l = LexRankSummarizer()"
      ],
      "execution_count": 15,
      "outputs": [
        {
          "output_type": "error",
          "ename": "ModuleNotFoundError",
          "evalue": "ignored",
          "traceback": [
            "\u001b[0;31m---------------------------------------------------------------------------\u001b[0m",
            "\u001b[0;31mModuleNotFoundError\u001b[0m                       Traceback (most recent call last)",
            "\u001b[0;32m<ipython-input-15-e179b3d401b5>\u001b[0m in \u001b[0;36m<module>\u001b[0;34m()\u001b[0m\n\u001b[0;32m----> 1\u001b[0;31m \u001b[0;32mfrom\u001b[0m \u001b[0msumy\u001b[0m\u001b[0;34m.\u001b[0m\u001b[0msummarizers\u001b[0m\u001b[0;34m.\u001b[0m\u001b[0mtext_rank\u001b[0m \u001b[0;32mimport\u001b[0m \u001b[0mTextRankSummarizer\u001b[0m\u001b[0;34m\u001b[0m\u001b[0;34m\u001b[0m\u001b[0m\n\u001b[0m\u001b[1;32m      2\u001b[0m \u001b[0;32mfrom\u001b[0m \u001b[0msumy\u001b[0m\u001b[0;34m.\u001b[0m\u001b[0msummarizers\u001b[0m\u001b[0;34m.\u001b[0m\u001b[0mlex_rank\u001b[0m \u001b[0;32mimport\u001b[0m \u001b[0mLexRankSummarizer\u001b[0m\u001b[0;34m\u001b[0m\u001b[0;34m\u001b[0m\u001b[0m\n\u001b[1;32m      3\u001b[0m \u001b[0;32mfrom\u001b[0m \u001b[0msumy\u001b[0m\u001b[0;34m.\u001b[0m\u001b[0mnlp\u001b[0m\u001b[0;34m.\u001b[0m\u001b[0mtokenizers\u001b[0m \u001b[0;32mimport\u001b[0m \u001b[0mTokenizer\u001b[0m\u001b[0;34m\u001b[0m\u001b[0;34m\u001b[0m\u001b[0m\n\u001b[1;32m      4\u001b[0m \u001b[0;32mfrom\u001b[0m \u001b[0msumy\u001b[0m\u001b[0;34m.\u001b[0m\u001b[0mparsers\u001b[0m\u001b[0;34m.\u001b[0m\u001b[0mplaintext\u001b[0m \u001b[0;32mimport\u001b[0m \u001b[0mPlaintextParser\u001b[0m\u001b[0;34m\u001b[0m\u001b[0;34m\u001b[0m\u001b[0m\n\u001b[1;32m      5\u001b[0m \u001b[0;32mimport\u001b[0m \u001b[0mnltk\u001b[0m\u001b[0;34m\u001b[0m\u001b[0;34m\u001b[0m\u001b[0m\n",
            "\u001b[0;31mModuleNotFoundError\u001b[0m: No module named 'sumy'",
            "",
            "\u001b[0;31m---------------------------------------------------------------------------\u001b[0;32m\nNOTE: If your import is failing due to a missing package, you can\nmanually install dependencies using either !pip or !apt.\n\nTo view examples of installing some common dependencies, click the\n\"Open Examples\" button below.\n\u001b[0;31m---------------------------------------------------------------------------\u001b[0m\n"
          ]
        }
      ]
    },
    {
      "cell_type": "code",
      "metadata": {
        "id": "74O8XI7d9PVZ"
      },
      "source": [
        "def graph_summarizer(doc):\n",
        "      parser=PlaintextParser.from_string(doc,Tokenizer(\"english\"))\n",
        "      # return summarizer_g(parser.document,5)\n",
        "      return summarizer_l(parser.document,2)\n"
      ],
      "execution_count": 16,
      "outputs": []
    },
    {
      "cell_type": "code",
      "metadata": {
        "id": "jpTIBRUT99I6"
      },
      "source": [
        "summary_graph = [graph_summarizer(summ) for summ in clinical_notes]\n",
        "for sentence in summary_graph[0]:\n",
        "    print(sentence , end= \" \")"
      ],
      "execution_count": null,
      "outputs": []
    },
    {
      "cell_type": "code",
      "metadata": {
        "id": "v9IW0IGzL2vj"
      },
      "source": [
        "final_summ = [None]*100\n",
        "for i in range(100):\n",
        "  final_summ[i] = \"\".join(str(list(summary_graph[i])))"
      ],
      "execution_count": null,
      "outputs": []
    },
    {
      "cell_type": "code",
      "metadata": {
        "id": "nuVXQAigS_TX"
      },
      "source": [
        "final_summ[0]"
      ],
      "execution_count": null,
      "outputs": []
    },
    {
      "cell_type": "code",
      "metadata": {
        "id": "86EaF7KH7e8C"
      },
      "source": [
        "kld_graph=[kld(final_summ[i],clinical_notes[i]) for i in range(100)]\n",
        "print(kld_graph)\n",
        "jsd_graph=[jsd(summ,org) for org,summ in zip(clinical_notes,final_summ)]\n",
        "print(jsd_graph)"
      ],
      "execution_count": null,
      "outputs": []
    },
    {
      "cell_type": "code",
      "metadata": {
        "id": "xjYqoebgTVRI"
      },
      "source": [
        "import statistics as sc\n",
        "print(sc.mean(kld_graph))\n",
        "print(sc.mean(jsd_graph))"
      ],
      "execution_count": null,
      "outputs": []
    },
    {
      "cell_type": "markdown",
      "metadata": {
        "id": "Dzn0-4uGVc0e"
      },
      "source": [
        "#BERT Extractive Summarizer\n",
        "\n",
        "This works by first embedding the sentences, then running a clustering algorithm, finding the sentences that are closest to the cluster's centroids. This library also uses coreference techniques, utilizing the https://github.com/huggingface/neuralcoref library to resolve words in summaries that need more context."
      ]
    },
    {
      "cell_type": "code",
      "metadata": {
        "id": "4qkLWZ_QaEDG",
        "outputId": "682490d8-031b-4796-af6e-9f2a21efc9be",
        "colab": {
          "base_uri": "https://localhost:8080/"
        }
      },
      "source": [
        "!pip install bert-extractive-summarizer\n",
        "!pip install neuralcoref\n",
        "!pip install spacy"
      ],
      "execution_count": 8,
      "outputs": [
        {
          "output_type": "stream",
          "text": [
            "Collecting bert-extractive-summarizer\n",
            "  Downloading https://files.pythonhosted.org/packages/1a/07/fdb05f9e18b6f641499ef56737126fbd2fafe1cdc1a04ba069d5aa205901/bert_extractive_summarizer-0.7.1-py3-none-any.whl\n",
            "Collecting transformers\n",
            "\u001b[?25l  Downloading https://files.pythonhosted.org/packages/d8/b2/57495b5309f09fa501866e225c84532d1fd89536ea62406b2181933fb418/transformers-4.5.1-py3-none-any.whl (2.1MB)\n",
            "\u001b[K     |████████████████████████████████| 2.1MB 4.3MB/s \n",
            "\u001b[?25hRequirement already satisfied: spacy in /usr/local/lib/python3.7/dist-packages (from bert-extractive-summarizer) (3.0.5)\n",
            "Requirement already satisfied: scikit-learn in /usr/local/lib/python3.7/dist-packages (from bert-extractive-summarizer) (0.22.2.post1)\n",
            "Requirement already satisfied: packaging in /usr/local/lib/python3.7/dist-packages (from transformers->bert-extractive-summarizer) (20.9)\n",
            "Requirement already satisfied: numpy>=1.17 in /usr/local/lib/python3.7/dist-packages (from transformers->bert-extractive-summarizer) (1.19.5)\n",
            "Collecting sacremoses\n",
            "\u001b[?25l  Downloading https://files.pythonhosted.org/packages/08/cd/342e584ee544d044fb573ae697404ce22ede086c9e87ce5960772084cad0/sacremoses-0.0.44.tar.gz (862kB)\n",
            "\u001b[K     |████████████████████████████████| 870kB 12.6MB/s \n",
            "\u001b[?25hRequirement already satisfied: tqdm>=4.27 in /usr/local/lib/python3.7/dist-packages (from transformers->bert-extractive-summarizer) (4.41.1)\n",
            "Requirement already satisfied: requests in /usr/local/lib/python3.7/dist-packages (from transformers->bert-extractive-summarizer) (2.23.0)\n",
            "Requirement already satisfied: importlib-metadata; python_version < \"3.8\" in /usr/local/lib/python3.7/dist-packages (from transformers->bert-extractive-summarizer) (3.10.0)\n",
            "Requirement already satisfied: regex!=2019.12.17 in /usr/local/lib/python3.7/dist-packages (from transformers->bert-extractive-summarizer) (2019.12.20)\n",
            "Collecting tokenizers<0.11,>=0.10.1\n",
            "\u001b[?25l  Downloading https://files.pythonhosted.org/packages/ae/04/5b870f26a858552025a62f1649c20d29d2672c02ff3c3fb4c688ca46467a/tokenizers-0.10.2-cp37-cp37m-manylinux2010_x86_64.whl (3.3MB)\n",
            "\u001b[K     |████████████████████████████████| 3.3MB 18.6MB/s \n",
            "\u001b[?25hRequirement already satisfied: filelock in /usr/local/lib/python3.7/dist-packages (from transformers->bert-extractive-summarizer) (3.0.12)\n",
            "Requirement already satisfied: typing-extensions<4.0.0.0,>=3.7.4; python_version < \"3.8\" in /usr/local/lib/python3.7/dist-packages (from spacy->bert-extractive-summarizer) (3.7.4.3)\n",
            "Requirement already satisfied: blis<0.8.0,>=0.4.0 in /usr/local/lib/python3.7/dist-packages (from spacy->bert-extractive-summarizer) (0.4.1)\n",
            "Requirement already satisfied: spacy-legacy<3.1.0,>=3.0.0 in /usr/local/lib/python3.7/dist-packages (from spacy->bert-extractive-summarizer) (3.0.2)\n",
            "Requirement already satisfied: srsly<3.0.0,>=2.4.0 in /usr/local/lib/python3.7/dist-packages (from spacy->bert-extractive-summarizer) (2.4.1)\n",
            "Requirement already satisfied: typer<0.4.0,>=0.3.0 in /usr/local/lib/python3.7/dist-packages (from spacy->bert-extractive-summarizer) (0.3.2)\n",
            "Requirement already satisfied: pydantic<1.8.0,>=1.7.1 in /usr/local/lib/python3.7/dist-packages (from spacy->bert-extractive-summarizer) (1.7.3)\n",
            "Requirement already satisfied: pathy>=0.3.5 in /usr/local/lib/python3.7/dist-packages (from spacy->bert-extractive-summarizer) (0.4.0)\n",
            "Requirement already satisfied: murmurhash<1.1.0,>=0.28.0 in /usr/local/lib/python3.7/dist-packages (from spacy->bert-extractive-summarizer) (1.0.5)\n",
            "Requirement already satisfied: wasabi<1.1.0,>=0.8.1 in /usr/local/lib/python3.7/dist-packages (from spacy->bert-extractive-summarizer) (0.8.2)\n",
            "Requirement already satisfied: cymem<2.1.0,>=2.0.2 in /usr/local/lib/python3.7/dist-packages (from spacy->bert-extractive-summarizer) (2.0.5)\n",
            "Requirement already satisfied: setuptools in /usr/local/lib/python3.7/dist-packages (from spacy->bert-extractive-summarizer) (54.2.0)\n",
            "Requirement already satisfied: catalogue<2.1.0,>=2.0.1 in /usr/local/lib/python3.7/dist-packages (from spacy->bert-extractive-summarizer) (2.0.2)\n",
            "Requirement already satisfied: thinc<8.1.0,>=8.0.2 in /usr/local/lib/python3.7/dist-packages (from spacy->bert-extractive-summarizer) (8.0.2)\n",
            "Requirement already satisfied: jinja2 in /usr/local/lib/python3.7/dist-packages (from spacy->bert-extractive-summarizer) (2.11.3)\n",
            "Requirement already satisfied: preshed<3.1.0,>=3.0.2 in /usr/local/lib/python3.7/dist-packages (from spacy->bert-extractive-summarizer) (3.0.5)\n",
            "Requirement already satisfied: scipy>=0.17.0 in /usr/local/lib/python3.7/dist-packages (from scikit-learn->bert-extractive-summarizer) (1.4.1)\n",
            "Requirement already satisfied: joblib>=0.11 in /usr/local/lib/python3.7/dist-packages (from scikit-learn->bert-extractive-summarizer) (1.0.1)\n",
            "Requirement already satisfied: pyparsing>=2.0.2 in /usr/local/lib/python3.7/dist-packages (from packaging->transformers->bert-extractive-summarizer) (2.4.7)\n",
            "Requirement already satisfied: six in /usr/local/lib/python3.7/dist-packages (from sacremoses->transformers->bert-extractive-summarizer) (1.15.0)\n",
            "Requirement already satisfied: click in /usr/local/lib/python3.7/dist-packages (from sacremoses->transformers->bert-extractive-summarizer) (7.1.2)\n",
            "Requirement already satisfied: urllib3!=1.25.0,!=1.25.1,<1.26,>=1.21.1 in /usr/local/lib/python3.7/dist-packages (from requests->transformers->bert-extractive-summarizer) (1.24.3)\n",
            "Requirement already satisfied: idna<3,>=2.5 in /usr/local/lib/python3.7/dist-packages (from requests->transformers->bert-extractive-summarizer) (2.10)\n",
            "Requirement already satisfied: chardet<4,>=3.0.2 in /usr/local/lib/python3.7/dist-packages (from requests->transformers->bert-extractive-summarizer) (3.0.4)\n",
            "Requirement already satisfied: certifi>=2017.4.17 in /usr/local/lib/python3.7/dist-packages (from requests->transformers->bert-extractive-summarizer) (2020.12.5)\n",
            "Requirement already satisfied: zipp>=0.5 in /usr/local/lib/python3.7/dist-packages (from importlib-metadata; python_version < \"3.8\"->transformers->bert-extractive-summarizer) (3.4.1)\n",
            "Requirement already satisfied: smart-open<4.0.0,>=2.2.0 in /usr/local/lib/python3.7/dist-packages (from pathy>=0.3.5->spacy->bert-extractive-summarizer) (3.0.0)\n",
            "Requirement already satisfied: MarkupSafe>=0.23 in /usr/local/lib/python3.7/dist-packages (from jinja2->spacy->bert-extractive-summarizer) (1.1.1)\n",
            "Building wheels for collected packages: sacremoses\n",
            "  Building wheel for sacremoses (setup.py) ... \u001b[?25l\u001b[?25hdone\n",
            "  Created wheel for sacremoses: filename=sacremoses-0.0.44-cp37-none-any.whl size=886084 sha256=6efef40d249fec83b4fe02aa07a188b5d564982bd7411c3c8949dc95a2bdca27\n",
            "  Stored in directory: /root/.cache/pip/wheels/3e/fb/c0/13ab4d63d537658f448366744654323077c4d90069b6512f3c\n",
            "Successfully built sacremoses\n",
            "Installing collected packages: sacremoses, tokenizers, transformers, bert-extractive-summarizer\n",
            "Successfully installed bert-extractive-summarizer-0.7.1 sacremoses-0.0.44 tokenizers-0.10.2 transformers-4.5.1\n",
            "Collecting neuralcoref\n",
            "\u001b[?25l  Downloading https://files.pythonhosted.org/packages/06/6d/c90e5bfd1b8ef32f1b231a32f2f625bf33df7525324d2bbcd08992791d64/neuralcoref-4.0-cp37-cp37m-manylinux1_x86_64.whl (286kB)\n",
            "\u001b[K     |████████████████████████████████| 286kB 3.9MB/s \n",
            "\u001b[?25hRequirement already satisfied: numpy>=1.15.0 in /usr/local/lib/python3.7/dist-packages (from neuralcoref) (1.19.5)\n",
            "Requirement already satisfied: requests<3.0.0,>=2.13.0 in /usr/local/lib/python3.7/dist-packages (from neuralcoref) (2.23.0)\n",
            "Collecting boto3\n",
            "\u001b[?25l  Downloading https://files.pythonhosted.org/packages/aa/98/e9459d65ad8ab27886bf9d86a537e6f65b5bdbc4c7de68ba45b524ef74a1/boto3-1.17.52-py2.py3-none-any.whl (131kB)\n",
            "\u001b[K     |████████████████████████████████| 133kB 6.7MB/s \n",
            "\u001b[?25hRequirement already satisfied: spacy>=2.1.0 in /usr/local/lib/python3.7/dist-packages (from neuralcoref) (3.0.5)\n",
            "Requirement already satisfied: idna<3,>=2.5 in /usr/local/lib/python3.7/dist-packages (from requests<3.0.0,>=2.13.0->neuralcoref) (2.10)\n",
            "Requirement already satisfied: certifi>=2017.4.17 in /usr/local/lib/python3.7/dist-packages (from requests<3.0.0,>=2.13.0->neuralcoref) (2020.12.5)\n",
            "Requirement already satisfied: urllib3!=1.25.0,!=1.25.1,<1.26,>=1.21.1 in /usr/local/lib/python3.7/dist-packages (from requests<3.0.0,>=2.13.0->neuralcoref) (1.24.3)\n",
            "Requirement already satisfied: chardet<4,>=3.0.2 in /usr/local/lib/python3.7/dist-packages (from requests<3.0.0,>=2.13.0->neuralcoref) (3.0.4)\n",
            "Collecting s3transfer<0.4.0,>=0.3.0\n",
            "\u001b[?25l  Downloading https://files.pythonhosted.org/packages/00/89/0cb4e92c239e6425b9b0035227b8cdf9d3d098a5c9e95632c3815df63a09/s3transfer-0.3.7-py2.py3-none-any.whl (73kB)\n",
            "\u001b[K     |████████████████████████████████| 81kB 5.2MB/s \n",
            "\u001b[?25hCollecting botocore<1.21.0,>=1.20.52\n",
            "\u001b[?25l  Downloading https://files.pythonhosted.org/packages/8f/f3/be57d6b74618db08bcc67be52da014c8d12132fedb1d12457c386b7be373/botocore-1.20.52-py2.py3-none-any.whl (7.4MB)\n",
            "\u001b[K     |████████████████████████████████| 7.4MB 6.7MB/s \n",
            "\u001b[?25hCollecting jmespath<1.0.0,>=0.7.1\n",
            "  Downloading https://files.pythonhosted.org/packages/07/cb/5f001272b6faeb23c1c9e0acc04d48eaaf5c862c17709d20e3469c6e0139/jmespath-0.10.0-py2.py3-none-any.whl\n",
            "Requirement already satisfied: jinja2 in /usr/local/lib/python3.7/dist-packages (from spacy>=2.1.0->neuralcoref) (2.11.3)\n",
            "Requirement already satisfied: murmurhash<1.1.0,>=0.28.0 in /usr/local/lib/python3.7/dist-packages (from spacy>=2.1.0->neuralcoref) (1.0.5)\n",
            "Requirement already satisfied: packaging>=20.0 in /usr/local/lib/python3.7/dist-packages (from spacy>=2.1.0->neuralcoref) (20.9)\n",
            "Requirement already satisfied: wasabi<1.1.0,>=0.8.1 in /usr/local/lib/python3.7/dist-packages (from spacy>=2.1.0->neuralcoref) (0.8.2)\n",
            "Requirement already satisfied: pathy>=0.3.5 in /usr/local/lib/python3.7/dist-packages (from spacy>=2.1.0->neuralcoref) (0.4.0)\n",
            "Requirement already satisfied: importlib-metadata>=0.20; python_version < \"3.8\" in /usr/local/lib/python3.7/dist-packages (from spacy>=2.1.0->neuralcoref) (3.10.0)\n",
            "Requirement already satisfied: typing-extensions<4.0.0.0,>=3.7.4; python_version < \"3.8\" in /usr/local/lib/python3.7/dist-packages (from spacy>=2.1.0->neuralcoref) (3.7.4.3)\n",
            "Requirement already satisfied: thinc<8.1.0,>=8.0.2 in /usr/local/lib/python3.7/dist-packages (from spacy>=2.1.0->neuralcoref) (8.0.2)\n",
            "Requirement already satisfied: cymem<2.1.0,>=2.0.2 in /usr/local/lib/python3.7/dist-packages (from spacy>=2.1.0->neuralcoref) (2.0.5)\n",
            "Requirement already satisfied: spacy-legacy<3.1.0,>=3.0.0 in /usr/local/lib/python3.7/dist-packages (from spacy>=2.1.0->neuralcoref) (3.0.2)\n",
            "Requirement already satisfied: blis<0.8.0,>=0.4.0 in /usr/local/lib/python3.7/dist-packages (from spacy>=2.1.0->neuralcoref) (0.4.1)\n",
            "Requirement already satisfied: catalogue<2.1.0,>=2.0.1 in /usr/local/lib/python3.7/dist-packages (from spacy>=2.1.0->neuralcoref) (2.0.2)\n",
            "Requirement already satisfied: tqdm<5.0.0,>=4.38.0 in /usr/local/lib/python3.7/dist-packages (from spacy>=2.1.0->neuralcoref) (4.41.1)\n",
            "Requirement already satisfied: setuptools in /usr/local/lib/python3.7/dist-packages (from spacy>=2.1.0->neuralcoref) (54.2.0)\n",
            "Requirement already satisfied: preshed<3.1.0,>=3.0.2 in /usr/local/lib/python3.7/dist-packages (from spacy>=2.1.0->neuralcoref) (3.0.5)\n",
            "Requirement already satisfied: typer<0.4.0,>=0.3.0 in /usr/local/lib/python3.7/dist-packages (from spacy>=2.1.0->neuralcoref) (0.3.2)\n",
            "Requirement already satisfied: srsly<3.0.0,>=2.4.0 in /usr/local/lib/python3.7/dist-packages (from spacy>=2.1.0->neuralcoref) (2.4.1)\n",
            "Requirement already satisfied: pydantic<1.8.0,>=1.7.1 in /usr/local/lib/python3.7/dist-packages (from spacy>=2.1.0->neuralcoref) (1.7.3)\n",
            "Requirement already satisfied: python-dateutil<3.0.0,>=2.1 in /usr/local/lib/python3.7/dist-packages (from botocore<1.21.0,>=1.20.52->boto3->neuralcoref) (2.8.1)\n",
            "Requirement already satisfied: MarkupSafe>=0.23 in /usr/local/lib/python3.7/dist-packages (from jinja2->spacy>=2.1.0->neuralcoref) (1.1.1)\n",
            "Requirement already satisfied: pyparsing>=2.0.2 in /usr/local/lib/python3.7/dist-packages (from packaging>=20.0->spacy>=2.1.0->neuralcoref) (2.4.7)\n",
            "Requirement already satisfied: smart-open<4.0.0,>=2.2.0 in /usr/local/lib/python3.7/dist-packages (from pathy>=0.3.5->spacy>=2.1.0->neuralcoref) (3.0.0)\n",
            "Requirement already satisfied: zipp>=0.5 in /usr/local/lib/python3.7/dist-packages (from importlib-metadata>=0.20; python_version < \"3.8\"->spacy>=2.1.0->neuralcoref) (3.4.1)\n",
            "Requirement already satisfied: click<7.2.0,>=7.1.1 in /usr/local/lib/python3.7/dist-packages (from typer<0.4.0,>=0.3.0->spacy>=2.1.0->neuralcoref) (7.1.2)\n",
            "Requirement already satisfied: six>=1.5 in /usr/local/lib/python3.7/dist-packages (from python-dateutil<3.0.0,>=2.1->botocore<1.21.0,>=1.20.52->boto3->neuralcoref) (1.15.0)\n",
            "\u001b[31mERROR: botocore 1.20.52 has requirement urllib3<1.27,>=1.25.4, but you'll have urllib3 1.24.3 which is incompatible.\u001b[0m\n",
            "Installing collected packages: jmespath, botocore, s3transfer, boto3, neuralcoref\n",
            "Successfully installed boto3-1.17.52 botocore-1.20.52 jmespath-0.10.0 neuralcoref-4.0 s3transfer-0.3.7\n",
            "Requirement already satisfied: spacy in /usr/local/lib/python3.7/dist-packages (3.0.5)\n",
            "Requirement already satisfied: typing-extensions<4.0.0.0,>=3.7.4; python_version < \"3.8\" in /usr/local/lib/python3.7/dist-packages (from spacy) (3.7.4.3)\n",
            "Requirement already satisfied: thinc<8.1.0,>=8.0.2 in /usr/local/lib/python3.7/dist-packages (from spacy) (8.0.2)\n",
            "Requirement already satisfied: pydantic<1.8.0,>=1.7.1 in /usr/local/lib/python3.7/dist-packages (from spacy) (1.7.3)\n",
            "Requirement already satisfied: jinja2 in /usr/local/lib/python3.7/dist-packages (from spacy) (2.11.3)\n",
            "Requirement already satisfied: wasabi<1.1.0,>=0.8.1 in /usr/local/lib/python3.7/dist-packages (from spacy) (0.8.2)\n",
            "Requirement already satisfied: pathy>=0.3.5 in /usr/local/lib/python3.7/dist-packages (from spacy) (0.4.0)\n",
            "Requirement already satisfied: srsly<3.0.0,>=2.4.0 in /usr/local/lib/python3.7/dist-packages (from spacy) (2.4.1)\n",
            "Requirement already satisfied: cymem<2.1.0,>=2.0.2 in /usr/local/lib/python3.7/dist-packages (from spacy) (2.0.5)\n",
            "Requirement already satisfied: requests<3.0.0,>=2.13.0 in /usr/local/lib/python3.7/dist-packages (from spacy) (2.23.0)\n",
            "Requirement already satisfied: murmurhash<1.1.0,>=0.28.0 in /usr/local/lib/python3.7/dist-packages (from spacy) (1.0.5)\n",
            "Requirement already satisfied: blis<0.8.0,>=0.4.0 in /usr/local/lib/python3.7/dist-packages (from spacy) (0.4.1)\n",
            "Requirement already satisfied: setuptools in /usr/local/lib/python3.7/dist-packages (from spacy) (54.2.0)\n",
            "Requirement already satisfied: importlib-metadata>=0.20; python_version < \"3.8\" in /usr/local/lib/python3.7/dist-packages (from spacy) (3.10.0)\n",
            "Requirement already satisfied: catalogue<2.1.0,>=2.0.1 in /usr/local/lib/python3.7/dist-packages (from spacy) (2.0.2)\n",
            "Requirement already satisfied: tqdm<5.0.0,>=4.38.0 in /usr/local/lib/python3.7/dist-packages (from spacy) (4.41.1)\n",
            "Requirement already satisfied: spacy-legacy<3.1.0,>=3.0.0 in /usr/local/lib/python3.7/dist-packages (from spacy) (3.0.2)\n",
            "Requirement already satisfied: preshed<3.1.0,>=3.0.2 in /usr/local/lib/python3.7/dist-packages (from spacy) (3.0.5)\n",
            "Requirement already satisfied: typer<0.4.0,>=0.3.0 in /usr/local/lib/python3.7/dist-packages (from spacy) (0.3.2)\n",
            "Requirement already satisfied: packaging>=20.0 in /usr/local/lib/python3.7/dist-packages (from spacy) (20.9)\n",
            "Requirement already satisfied: numpy>=1.15.0 in /usr/local/lib/python3.7/dist-packages (from spacy) (1.19.5)\n",
            "Requirement already satisfied: MarkupSafe>=0.23 in /usr/local/lib/python3.7/dist-packages (from jinja2->spacy) (1.1.1)\n",
            "Requirement already satisfied: smart-open<4.0.0,>=2.2.0 in /usr/local/lib/python3.7/dist-packages (from pathy>=0.3.5->spacy) (3.0.0)\n",
            "Requirement already satisfied: idna<3,>=2.5 in /usr/local/lib/python3.7/dist-packages (from requests<3.0.0,>=2.13.0->spacy) (2.10)\n",
            "Requirement already satisfied: chardet<4,>=3.0.2 in /usr/local/lib/python3.7/dist-packages (from requests<3.0.0,>=2.13.0->spacy) (3.0.4)\n",
            "Requirement already satisfied: urllib3!=1.25.0,!=1.25.1,<1.26,>=1.21.1 in /usr/local/lib/python3.7/dist-packages (from requests<3.0.0,>=2.13.0->spacy) (1.24.3)\n",
            "Requirement already satisfied: certifi>=2017.4.17 in /usr/local/lib/python3.7/dist-packages (from requests<3.0.0,>=2.13.0->spacy) (2020.12.5)\n",
            "Requirement already satisfied: zipp>=0.5 in /usr/local/lib/python3.7/dist-packages (from importlib-metadata>=0.20; python_version < \"3.8\"->spacy) (3.4.1)\n",
            "Requirement already satisfied: click<7.2.0,>=7.1.1 in /usr/local/lib/python3.7/dist-packages (from typer<0.4.0,>=0.3.0->spacy) (7.1.2)\n",
            "Requirement already satisfied: pyparsing>=2.0.2 in /usr/local/lib/python3.7/dist-packages (from packaging>=20.0->spacy) (2.4.7)\n"
          ],
          "name": "stdout"
        }
      ]
    },
    {
      "cell_type": "code",
      "metadata": {
        "id": "VvAJPDkQMTmt",
        "outputId": "26c8b949-1e80-4270-cd0e-ce0977594dc5",
        "colab": {
          "base_uri": "https://localhost:8080/"
        }
      },
      "source": [
        "pip install sentencepiece"
      ],
      "execution_count": 9,
      "outputs": [
        {
          "output_type": "stream",
          "text": [
            "Collecting sentencepiece\n",
            "\u001b[?25l  Downloading https://files.pythonhosted.org/packages/f5/99/e0808cb947ba10f575839c43e8fafc9cc44e4a7a2c8f79c60db48220a577/sentencepiece-0.1.95-cp37-cp37m-manylinux2014_x86_64.whl (1.2MB)\n",
            "\u001b[K     |████████████████████████████████| 1.2MB 3.6MB/s \n",
            "\u001b[?25hInstalling collected packages: sentencepiece\n",
            "Successfully installed sentencepiece-0.1.95\n"
          ],
          "name": "stdout"
        }
      ]
    },
    {
      "cell_type": "code",
      "metadata": {
        "id": "zyQN1uloaOlR",
        "outputId": "aa269ea8-c184-4e58-ceee-5ba18941e5d4",
        "colab": {
          "base_uri": "https://localhost:8080/",
          "height": 261,
          "referenced_widgets": [
            "8a0c56b9f15f4b9c8069939aea4b1989",
            "02f45a2600034ab2a30e140e45d118c5",
            "a913eb61e93d46878dfcaeebfb1ee7a6",
            "23ce4392c66c413ba4346e0d9bab8d0a",
            "64ce2e2fac40413192e8d1b4b14dd377",
            "60b8305021a24b5c9864842a13157064",
            "000f3208a907479391a873e8da82e44d",
            "70d612aec88b44099f53b1c714efb847",
            "8f51582122804c50882dcaa8904d199e",
            "2479fb085b7e429aa4aacf79f67b5cc6",
            "db96b8bdbfd3468791b555c5571a11ad",
            "cf54cd403b8644c9a3d0b6928e428618",
            "6cdbf3bc7cee4cd388de1ed23f66c8ff",
            "b3ac604793dc48fe9c3e932ba0566004",
            "cca7409b018049188dcf989952b89265",
            "21969e17d5a04686b08ad714c1e2cca6",
            "0734e47e85464116960227e33ad4b6f3",
            "8d36d9a52e4344be8d539d13bc6af692",
            "2148c8ee9e984cc29efcd4cf1e91bb13",
            "35ae2e47eeac417b9cb739b48c9a84eb",
            "a057422c324e4535b616d170d8283e2a",
            "5f09668bad5b45a396527c65b2af2b7e",
            "4763b6db4e9a4068a102cf157a943c96",
            "fdfe39d5113d44408c5f4eea1860f067",
            "efa93e8d6b344e788763faa937aeb634",
            "9cd90f7c39834f33b569c5b564eb7878",
            "48ae285df695419898a433156ab30dda",
            "3b35fd985bec40e3a885561691b2e35c",
            "79e16ed2bb0c4c68a0e86ff007d211e3",
            "b8779ebd049642e38805c318011a1263",
            "2b92a82fc2f34ea2b46e73c392b9b9c2",
            "8f2406b5431549b5a9503c4ab612ad9c",
            "b60a6b1af9b44a168f68684897ee4e9b",
            "43ec8e0ba3344f07937df46a4f3b168c",
            "76211383f57846e0bed7ec698368cdf2",
            "394de0f49cb443059ce40ba07b046133",
            "d2ec336241474b9a923c2cf59a75e160",
            "568d6937b8574f438158109a7b11fcba",
            "31705c0e467f4d7ead2009121c660019",
            "475d9d6c122640778303182712072860"
          ]
        }
      },
      "source": [
        "from summarizer import Summarizer\n",
        "# #handler = CoreferenceHandler(greedyness=.4)\n",
        "# model = Summarizer(sentence_handler=handler)\n",
        "model = Summarizer()"
      ],
      "execution_count": 10,
      "outputs": [
        {
          "output_type": "display_data",
          "data": {
            "application/vnd.jupyter.widget-view+json": {
              "model_id": "8a0c56b9f15f4b9c8069939aea4b1989",
              "version_minor": 0,
              "version_major": 2
            },
            "text/plain": [
              "HBox(children=(FloatProgress(value=0.0, description='Downloading', max=434.0, style=ProgressStyle(description_…"
            ]
          },
          "metadata": {
            "tags": []
          }
        },
        {
          "output_type": "stream",
          "text": [
            "\n"
          ],
          "name": "stdout"
        },
        {
          "output_type": "display_data",
          "data": {
            "application/vnd.jupyter.widget-view+json": {
              "model_id": "8f51582122804c50882dcaa8904d199e",
              "version_minor": 0,
              "version_major": 2
            },
            "text/plain": [
              "HBox(children=(FloatProgress(value=0.0, description='Downloading', max=1344997306.0, style=ProgressStyle(descr…"
            ]
          },
          "metadata": {
            "tags": []
          }
        },
        {
          "output_type": "stream",
          "text": [
            "\n"
          ],
          "name": "stdout"
        },
        {
          "output_type": "display_data",
          "data": {
            "application/vnd.jupyter.widget-view+json": {
              "model_id": "0734e47e85464116960227e33ad4b6f3",
              "version_minor": 0,
              "version_major": 2
            },
            "text/plain": [
              "HBox(children=(FloatProgress(value=0.0, description='Downloading', max=231508.0, style=ProgressStyle(descripti…"
            ]
          },
          "metadata": {
            "tags": []
          }
        },
        {
          "output_type": "stream",
          "text": [
            "\n"
          ],
          "name": "stdout"
        },
        {
          "output_type": "display_data",
          "data": {
            "application/vnd.jupyter.widget-view+json": {
              "model_id": "efa93e8d6b344e788763faa937aeb634",
              "version_minor": 0,
              "version_major": 2
            },
            "text/plain": [
              "HBox(children=(FloatProgress(value=0.0, description='Downloading', max=28.0, style=ProgressStyle(description_w…"
            ]
          },
          "metadata": {
            "tags": []
          }
        },
        {
          "output_type": "stream",
          "text": [
            "\n"
          ],
          "name": "stdout"
        },
        {
          "output_type": "display_data",
          "data": {
            "application/vnd.jupyter.widget-view+json": {
              "model_id": "b60a6b1af9b44a168f68684897ee4e9b",
              "version_minor": 0,
              "version_major": 2
            },
            "text/plain": [
              "HBox(children=(FloatProgress(value=0.0, description='Downloading', max=466062.0, style=ProgressStyle(descripti…"
            ]
          },
          "metadata": {
            "tags": []
          }
        },
        {
          "output_type": "stream",
          "text": [
            "\n"
          ],
          "name": "stdout"
        }
      ]
    },
    {
      "cell_type": "code",
      "metadata": {
        "id": "N6wFBdykL10H"
      },
      "source": [
        "def extr_summarizer(doc):\n",
        "      result = model(doc, num_sentences=10)\n",
        "      return ''.join(result)"
      ],
      "execution_count": 11,
      "outputs": []
    },
    {
      "cell_type": "code",
      "metadata": {
        "colab": {
          "base_uri": "https://localhost:8080/"
        },
        "id": "9q3VCwFxNJ-z",
        "outputId": "43cb1c5d-a37a-4e57-8ab2-7752204d7b9e"
      },
      "source": [
        "summary_extr = [extr_summarizer(summ) for summ in clinical_notes]"
      ],
      "execution_count": 12,
      "outputs": [
        {
          "output_type": "stream",
          "text": [
            "/usr/local/lib/python3.7/dist-packages/summarizer/cluster_features.py:149: ConvergenceWarning: Number of distinct clusters (8) found smaller than n_clusters (9). Possibly due to duplicate points in X.\n",
            "  model = self.__get_model(k).fit(self.features)\n"
          ],
          "name": "stderr"
        }
      ]
    },
    {
      "cell_type": "code",
      "metadata": {
        "colab": {
          "base_uri": "https://localhost:8080/",
          "height": 69
        },
        "id": "oMmGEx9eO1LG",
        "outputId": "50054688-91a2-422f-c777-1e3c91573419"
      },
      "source": [
        "summary_extr[0]"
      ],
      "execution_count": 13,
      "outputs": [
        {
          "output_type": "execute_result",
          "data": {
            "application/vnd.google.colaboratory.intrinsic+json": {
              "type": "string"
            },
            "text/plain": [
              "'po daily daily disp tablet delayed release e.c. lastnametoken on february at 15pm cardiologist dr. lastnametoken on february at 30am wound check on thurs january at am with cardiac surgery on hospitaltoken please call to schedule appointments with your primary care dr. lastnametoken in march weeks please call cardiac surgery office with any questions or concerns telephonenumbertoken answering service will contact on call person during off hours completed by january'"
            ]
          },
          "metadata": {
            "tags": []
          },
          "execution_count": 13
        }
      ]
    },
    {
      "cell_type": "code",
      "metadata": {
        "id": "zN4oYruDZell"
      },
      "source": [
        "#Evaluation Criteria Based on probabilty distribution hypothesis sripada et al .\n",
        "from scipy.stats import entropy\n",
        "from scipy.spatial import distance\n",
        "\n",
        "from collections import Counter\n",
        "from collections import OrderedDict\n",
        "\n",
        "def kld(summ, org): \n",
        "        dist_original=Counter(str(org).lower().split())\n",
        "        dist_summary=Counter(str(summ).lower().split())\n",
        "        q = list(dist_original.values())\n",
        "        p=list(dist_summary.values())\n",
        "        a=min(len(p),len(q))\n",
        "        return entropy(p[0:a],qk=q[0:a])\n",
        " \n",
        "def jsd(summ,org):\n",
        "        dist_original=Counter(str(org).lower().split())\n",
        "        dist_summary=Counter(str(summ).lower().split())\n",
        "        p = list(dist_original.values())\n",
        "        q = list(dist_summary.values())\n",
        "        a=min(len(p),len(q))\n",
        "        return distance.jensenshannon(p[0:a],q[0:a])"
      ],
      "execution_count": 18,
      "outputs": []
    },
    {
      "cell_type": "code",
      "metadata": {
        "id": "TZmXSTT0NVeV"
      },
      "source": [
        "kld_extr = [kld(summary_extr[i],clinical_notes[i]) for i in range(100)]\n",
        "jsd_extr = [jsd(summ,org) for org,summ in zip(clinical_notes,summary_extr)]"
      ],
      "execution_count": 31,
      "outputs": []
    },
    {
      "cell_type": "code",
      "metadata": {
        "id": "gzudPyqzX75n"
      },
      "source": [
        "# print(jsd_extr)"
      ],
      "execution_count": 32,
      "outputs": []
    },
    {
      "cell_type": "code",
      "metadata": {
        "id": "FryNKRVMX7IX"
      },
      "source": [
        "# print(kld_extr)"
      ],
      "execution_count": 33,
      "outputs": []
    },
    {
      "cell_type": "code",
      "metadata": {
        "colab": {
          "base_uri": "https://localhost:8080/"
        },
        "id": "YYO5hHgZN5QG",
        "outputId": "8e3cc1e2-4c0c-495e-de13-e6c5b04f3acd"
      },
      "source": [
        "import statistics as sc\n",
        "print(sc.mean(kld_extr))\n",
        "print(sc.mean(jsd_extr))"
      ],
      "execution_count": 34,
      "outputs": [
        {
          "output_type": "stream",
          "text": [
            "0.8188729477123553\n",
            "0.414378066906262\n"
          ],
          "name": "stdout"
        }
      ]
    },
    {
      "cell_type": "code",
      "metadata": {
        "id": "VHjF_hjw-D1R"
      },
      "source": [
        "#saving values for paper figure reproducibilty \n",
        "kld_extr = [0.6842839295529844, 0.7977338743284382, 0.5563448921486086, 0.0, 0.650041832310987, 0.9879807463328246, 0.9178073561080327, 0.793975147520496, 0.7294714408155729, 0.5436764420810272, 0.5059154749516336, 0.4551771222679759, 0.8930379909918174, 0.4812437378477629, 0.6076818543698523, 0.7742248472436721, 0.7953275087477899, 0.4080821223600874, 0.7471956269489444, 0.4674465180725232, 0.5739576815215496, 1.0849542422952438, 0.5469967807232509, 0.8057589196705631, 0.733428113620223, 0.6179537616310854, 0.42513755448109114, 0.6186836076801235, 0.661148944159633, 0.6006554535217499, 1.005374042540837, 0.9515003342323526, 1.0732822349412607, 0.7262704041759033, 1.007124181059896, 0.8467893082057485, 0.0, 1.033170157133659, 0.7113843525741337, 0.5264649543611555, 0.9375720510200491, 0.953207826523899, 0.37356080634258193, 1.073976644398436, 0.0, 0.7468974187113244, 0.9028639184522681, 0.7682308988058449, 0.7168563936767004, 0.8756798049335361, 0.0, 1.0680415870251325, 0.9566413720923004, 0.9449576623705486, 0.4903198982399414, 0.9119085469372984, 0.48542011747657676, 0.5780943425248267, 0.7896674437498101, 1.1745245943752975, 0.9399622223613009, 0.6524895427240437, 0.0, 0.7901774420491993, 0.0, 0.6025816064990642, 1.2528338077952927, 0.92743389936941, 0.8766870745676044, 0.25124713536228166, 0.8335601015770484, 0.5913920887040359, 0.5358172620797355, 0.0, 0.0, 0.0, 0.8559918760942445, 0.5795336889606747, 0.7043395000430008, 0.6403703906493141, 0.9204451065271085, 0.7067761501401544, 0.9310116322634805, 0.6925831501893108, 1.0536382620463987, 0.6890920669949064, 0.3700791602546419, 0.0, 0.0, 1.1172083011359595, 1.1432497835089457, 0.0, 0.6716732556143133, 1.0532713354695107, 0.6816544509499052, 0.0, 0.7150526267154107, 0.0, 0.8075167246497679, 0.8270613505054992]\n",
        "jsd_extr = [0.3889800200362971, 0.4150140948147177, 0.35341466221567985, 0.0, 0.3871579196253934, 0.47350681413515644, 0.45872669701548296, 0.4134906593581557, 0.37780829670084193, 0.35516831338690913, 0.3408699372839849, 0.3317326794337331, 0.4321788283693042, 0.32849155806901364, 0.36908994727156635, 0.40414997030120775, 0.42614038771038076, 0.3120209509688403, 0.4057529954933764, 0.3260221907119308, 0.3618802023427668, 0.4709899545092152, 0.3498383982647257, 0.41415054117898487, 0.40247279325429036, 0.3679523566302214, 0.32004689564239175, 0.3681218228329077, 0.3910261206910418, 0.37583287332496823, 0.4533645837049951, 0.4534329749006663, 0.46480683843308895, 0.38540766075264565, 0.4593958093677675, 0.41216929511578226, 0.0, 0.4747608887804804, 0.3766613947988156, 0.3480609235496084, 0.4342190489036695, 0.4538643446190868, 0.2972178095315592, 0.4665210908834635, 0.0, 0.4100347855773343, 0.4458969632579672, 0.4147075441754524, 0.3956091978744609, 0.4166994632787794, 0.0, 0.4698612114376377, 0.44459479385358314, 0.45998353728005664, 0.34423266627449683, 0.44339829988709273, 0.3208087743858188, 0.33499046749346734, 0.4187560533303449, 0.4707018009928195, 0.46205666317049654, 0.3859572583298333, 0.0, 0.40721832886322684, 0.0, 0.3716875208497137, 0.48349022518597623, 0.44610382752571837, 0.4294598778369194, 0.2456534593977592, 0.4265692348472723, 0.3584633653825982, 0.35139800296072465, 0.0, 0.0, 0.0, 0.4466201862675442, 0.3523603721738321, 0.38640898857956846, 0.3830251015442972, 0.4422903312935297, 0.3961270529493093, 0.42458982204689544, 0.3915465083402976, 0.46258069083770575, 0.3841003406447347, 0.2879992528624649, 0.0, 0.0, 0.44429787333040394, 0.4717074671058845, 0.0, 0.3927803763656502, 0.45957028363606967, 0.37391136254463186, 0.0, 0.4090836023038065, 0.0, 0.4309534038168775, 0.4313076905136646]\n",
        "\n",
        "kld_graph = [0.7300056898789489, 1.1694653021133752, 0.6582040562369684, 1.1142263603662046, 0.8318529166860184, 0.8500070481335991, 0.7234898358384443, 0.9397794415946781, 0.726998247614633, 0.8241942675835762, 0.7265543565505864, 0.8975525931393504, 0.7959301455554484, 0.669376027852106, 0.6923054576777433, 0.8430866798024049, 0.8197445230302883, 1.1839705218869996, 0.6701176466628493, 0.6287766841898392, 0.8159473750157457, 0.756643590754108, 0.6906630843858031, 0.8931309728288316, 0.7144985447747672, 0.8300907000246323, 0.834051631125655, 0.37818748694309756, 0.7661089260302357, 0.5496976276423745, 1.1552599696350314, 1.1139611998440782, 0.9708535963995211, 0.7248635204961643, 0.7987247104279331, 1.0527604136198216, 0.4291175146466038, 0.8817568712791295, 0.977064960959994, 0.8256685296408494, 1.1179781921775627, 1.0158723379775443, 0.6275512853238936, 0.889559830760793, 0.86616539695137, 1.015695888958109, 0.9623901921279748, 0.7535301262975973, 0.6733909419467383, 0.9915513212639595, 0.8950265190593789, 0.7367017095195311, 0.7066241697163015, 0.6304186629758641, 0.6266687545556131, 0.9350300679640836, 0.74445164581268, 0.7132363218902187, 0.899419062924438, 0.9041153125555343, 0.9170253626463758, 0.6777954225459047, 0.6796064196331952, 0.359659861346278, 0.9685228897871683, 0.6872233912545257, 0.9461190163563672, 1.0868593983885828, 0.7128740045675543, 0.7082165618844374, 1.0283505192174982, 0.9770303398102115, 0.9490783233675888, 0.8073872415005704, 0.7649776078191046, 0.7957951660901631, 0.9871173285269387, 0.7410403254178912, 0.6508963809634369, 0.6687174339884687, 0.859265556947042, 0.6807309559224896, 0.9393438592692173, 0.8344844075404826, 0.9832039818569783, 0.6087414672046543, 0.8236330442677694, 0.6797628587297387, 1.235382614666698, 1.1498393769142612, 1.2362334632243672, 0.8164423782212614, 0.8693744754909798, 0.7759678551566488, 0.6634608403603763, 0.41685744869339164, 0.7343632141394312, 0.8113064916022634, 1.0262722025876216, 1.1032334934986978]\n",
        "jsd_graph =[0.40572689452868865, 0.4813096599104728, 0.37274724920541863, 0.45182646849647046, 0.40472723442093994, 0.40754138115633826, 0.38633816629952566, 0.44705624592014304, 0.38367956612670323, 0.4002275883011303, 0.38695315477095393, 0.4187542103541375, 0.40496211598474424, 0.3786508981574111, 0.39717680492744994, 0.40603010429191005, 0.408283973678661, 0.4630105396718603, 0.39274058754513985, 0.3650499782321273, 0.402852165926118, 0.3895585816063566, 0.38845019714391726, 0.4339320594852482, 0.38324987845709724, 0.4039121630728288, 0.420325557946207, 0.2852786702376886, 0.38939581774561316, 0.3369839680655799, 0.46756818119396004, 0.45102940006711667, 0.4566893658812188, 0.386086126785046, 0.39323318162638926, 0.454530816023426, 0.30564345489761596, 0.41733044276279113, 0.45711090061982, 0.4066859195027178, 0.44548471361302966, 0.43001762002444993, 0.3664051800776602, 0.4179066338522689, 0.40804220666223107, 0.46284453146823484, 0.4310261492958148, 0.40493105877435837, 0.3638919214040496, 0.4429928642348839, 0.4276018606833262, 0.39129857365429793, 0.3815681844283498, 0.38290473557663934, 0.36745650365594523, 0.4273650590136626, 0.38773786771474034, 0.38702673306663693, 0.43701637827249645, 0.42669922878383876, 0.4414503565319712, 0.37577487102431545, 0.38371169279552236, 0.28754965702747015, 0.4348691790765962, 0.3754683688074647, 0.44284742084782436, 0.4571780958152055, 0.4051255731165885, 0.3935463398267229, 0.4686754278898076, 0.4499906349221446, 0.43104858078926567, 0.4049067128869286, 0.4101693300689571, 0.40055983664753536, 0.44563792702026545, 0.4115244288142892, 0.3875719847411568, 0.37650062039087717, 0.41643653043166867, 0.3863212113503817, 0.42718551235921753, 0.4167799751288987, 0.44608095400179404, 0.3615201533362695, 0.42967611050141646, 0.3849967713028161, 0.48370776707941016, 0.4832681474441424, 0.46856414784481426, 0.4133377448026442, 0.42057139142854527, 0.3879822334781606, 0.37566998952090147, 0.30391310914144126, 0.3836765924085119, 0.4046502018118133, 0.45583436111455644, 0.4549496473633336]\n",
        "\n",
        "kld_freq = [0.7199990163091441, 1.288577094003375, 0.6876781653361953, 1.0548275305953054, 0.822106467044532, 1.0250455035798383, 0.7642230697261388, 0.8861677097328216, 0.8133151448774971, 1.070300835591361, 0.8902506584557677, 1.0409563178920767, 0.9325518447723371, 0.876780478796326, 0.7527658673801978, 1.109862192707198, 0.9814609731836896, 1.3140823138880307, 0.6336290837851819, 0.5945883813485552, 0.9853710957839535, 0.6425021501485686, 0.7927687220316615, 1.0248072650693685, 0.7909853199013283, 0.917756720574602, 0.7840406497243342, 0.36351808643481, 0.7646289844561274, 0.7901441270581637, 1.3074442360423464, 1.1585353169123405, 0.8390222886295955, 0.7277708334637526, 0.9440759880626365, 1.0119889895584742, 0.4404568982928508, 0.809263712380167, 0.9257424674505709, 0.8088068380486474, 1.1703079980729523, 1.0009809316501646, 0.6645238775763517, 0.9657224564406461, 0.8211600933863579, 0.9475945948239577, 1.0045711656352914, 0.8222920904678139, 0.9173348150335361, 1.0650339501847848, 0.9150650487002507, 0.8592161332260143, 0.7760992513052745, 0.9899705820711331, 0.25402090348903744, 1.0738141312402973, 0.958779532547603, 0.8047759506636604, 0.8837316319163978, 1.0237833505131568, 1.0448370196047883, 0.7598523168375311, 0.7421577154953737, 0.7060657854315938, 0.9310896222377714, 0.7222608882096487, 1.0117940181455518, 1.235252849808724, 0.7749524468673616, 0.6028963762294497, 0.8497471330550408, 1.188247565159837, 1.1064630436808665, 0.8005052123107964, 0.943394967833588, 0.8352263506528074, 1.261395619257123, 0.9057660069747315, 0.7437664404687891, 0.8961443246169718, 0.992520711484797, 0.9310731755674274, 0.8276231800837823, 0.8482506953980145, 0.951658753833869, 0.6529169649183043, 0.6827022343894, 0.8240654539174791, 1.3381892931093735, 0.8883881871861411, 1.3539373370730008, 0.7983410280939688, 0.7374364832394635, 0.841450466192277, 0.7601875735059431, 0.49707873253014384, 0.8610639835107452, 1.0040131802807752, 1.244057337071036, 1.1587067148922152]\n",
        "jsd_freq = [0.39720931225497386, 0.4852511366314636, 0.3872706804927176, 0.46340325681824046, 0.4099997986976341, 0.46005880733558646, 0.4002969489882648, 0.44234415036007135, 0.421925310099122, 0.4693768278740044, 0.4158760771563454, 0.45895034411578084, 0.4402055982830778, 0.41583161778047406, 0.3969658596406603, 0.4911221113095487, 0.445479559429233, 0.5046759063512024, 0.3713131621866397, 0.3478467357335101, 0.4340713440256459, 0.3749889088313121, 0.41151153011543545, 0.4588922511707417, 0.4091819540392327, 0.43419640905267, 0.4065440662077568, 0.2844284268589189, 0.40559652794340256, 0.4014378102932751, 0.4967820570737719, 0.4870344672921085, 0.4078101320044515, 0.4108891690505209, 0.43240798520967044, 0.44935119240437205, 0.30652719506018367, 0.4162684644669471, 0.4354268177375234, 0.39773859743967266, 0.4715521382530961, 0.447962003273332, 0.38610627249095786, 0.4315213182615697, 0.41408626881185323, 0.44327199859245164, 0.44658865113350443, 0.40915999634888267, 0.432579406441209, 0.46516287510699234, 0.43411307155006607, 0.4231658229357147, 0.3998127104906795, 0.45057579185007557, 0.2290297743715948, 0.4760834031030112, 0.4335523857629184, 0.41516752657671646, 0.43874027686937406, 0.4568945731781437, 0.47081245798217464, 0.4056472661746331, 0.3979407366977592, 0.37717446499159896, 0.4340829736581772, 0.3881235315133434, 0.44593482069341067, 0.4900066637617449, 0.4013769642616592, 0.3620793700689522, 0.42967583582364666, 0.5092855744997147, 0.4815715537389554, 0.4107153861102546, 0.4324135002174301, 0.41260020432057676, 0.47584168236171737, 0.45241197157420976, 0.39985777827917024, 0.44433796189167596, 0.4507521245052968, 0.43070964328348293, 0.4142477213322459, 0.4282527282335757, 0.4372838180953955, 0.37491735876279997, 0.3816171949760131, 0.42752970547470326, 0.4951776614304662, 0.43596184440374197, 0.5136152666821995, 0.41795562355788785, 0.4099793980911211, 0.4202847642635409, 0.4098869056748805, 0.32936378459450627, 0.4188613183589922, 0.4511300428259509, 0.48116143642937387, 0.4832579831809677]\n",
        "\n",
        "kld_bert = [0.5304973289536807, 0.9637565778806534, 0.6480372126828674, 1.0598080231113771, 0.6596100015838781, 0.961695906703837, 0.7166647888742338, 0.7186481524160726, 0.7381156941943346, 0.862578381459093, 0.640964951575515, 0.9311825467942473, 0.9272953183638052, 0.7276216750871183, 0.6588225045697049, 0.6566555543439125, 0.8280155155966138, 1.0949900884823685, 0.5425052597443711, 0.5551566026817091, 0.6241933076999967, 0.7095698631706058, 0.673119474083796, 0.7905761619263152, 0.6242677652059733, 0.9976209278947502, 0.8732555087957017, 0.3591183501963573, 0.849222025683259, 0.6984104719996489, 1.1119208861668393, 1.3029989737257086, 0.848117816655112, 0.7022579061530491, 0.8819495142169931, 1.0727132887692705, 0.4128020284386661, 1.0196308022374296, 0.8100468503356244, 0.8140667038037898, 1.0655508009892813, 0.9815567821115196, 0.6109622208530741, 0.9214327515858699, 0.8621839946107106, 0.8865849235084697, 0.9109970051804893, 0.6460361018165194, 0.6222885810373494, 1.1783418123357225, 0.9630834604445799, 0.8346854932805244, 0.7593274330843409, 0.6464519863167456, 0.49828975266184294, 0.9051504603154208, 0.732859508533769, 0.5883009844450979, 0.7792483712743699, 0.9471174310788678, 1.0609638247850413, 0.6757815021318018, 0.7330258748881644, 0.5559081557870065, 0.816289124740535, 0.7902729881207241, 1.1177058787774334, 1.239642792326871, 0.6555347046968876, 0.658702773961174, 0.7137874341646481, 0.8637931750291281, 0.848320641984561, 0.6719231236172478, 0.9253554812401936, 0.8316313366157146, 0.8022974954429185, 0.7952313732601919, 0.6158349071814838, 0.5618559325841107, 0.8884490172145723, 0.7791281893423676, 0.7782833262523281, 0.6905315345050577, 0.9500806809207483, 0.520986391642601, 0.7570821079351988, 0.7735853735792704, 1.2298921125572484, 0.9594217032022658, 1.3641683061680994, 0.7393966469792548, 0.8470968560346392, 0.7198647080673972, 0.7549458042745456, 0.3977209748034853, 0.6943210948819042, 1.161706335085129, 0.8618877660548809, 1.1321097725975433]\n",
        "jsd_bert = [0.3415987406274615, 0.44210817953984255, 0.36754072352737316, 0.45747025361210253, 0.3776636969160695, 0.43613048111817065, 0.38769332712879784, 0.40006278618025437, 0.38396390400454056, 0.41504584364896485, 0.36411206076899383, 0.44146210491708476, 0.43135545627620764, 0.39305819499632433, 0.3792981413399124, 0.37102768524332247, 0.4199600907573846, 0.4696523409213456, 0.3497164250851513, 0.34769639864097374, 0.3650174249512146, 0.3963937140812465, 0.378200864675577, 0.4063622141564362, 0.37793875527006626, 0.4443886894314313, 0.4191759712034987, 0.293562313542009, 0.4148977973519625, 0.39130608821245505, 0.4694147665112849, 0.4852143144775648, 0.41804461405469906, 0.3928175122092915, 0.4248196700538005, 0.4538732997382873, 0.30002130235463176, 0.44292963396396, 0.41513915475863167, 0.4088110560382302, 0.4563105561278012, 0.44344671654339, 0.36365103369746005, 0.43066126597339593, 0.4179190556897388, 0.4327550268949804, 0.42079462500194903, 0.3730467208716036, 0.36888862245822085, 0.4711803975571647, 0.44315642464002536, 0.41074213859580616, 0.4014344261972164, 0.3826689095336573, 0.3437649159827409, 0.4311520754593707, 0.3910529665278217, 0.3617512551361415, 0.4018874945951712, 0.433170300731974, 0.450713242242193, 0.38473922667292304, 0.3792486433434342, 0.3524824067130604, 0.4124837311785787, 0.40966758479396037, 0.4826046735492886, 0.4948677025382312, 0.37409961814153053, 0.38192050956733753, 0.38439736853691475, 0.4130382885981921, 0.4125240332798613, 0.3834279654839512, 0.4358320838959415, 0.4122249822494063, 0.4183927825287325, 0.4143664524146691, 0.36885657314095305, 0.3560934992577938, 0.4255780726272146, 0.40303959960950386, 0.3929390018754541, 0.3850112199672151, 0.4296328278415279, 0.345742785494755, 0.4022775830894425, 0.39742295362622704, 0.4769423924037395, 0.4447968521672965, 0.5062728465534658, 0.3964832887988105, 0.4189252176062037, 0.39492882178987415, 0.3995083695658513, 0.3053574689348451, 0.3827991427645105, 0.47660273996159774, 0.4211118754911175, 0.4674714604609634]"
      ],
      "execution_count": 38,
      "outputs": []
    },
    {
      "cell_type": "code",
      "metadata": {
        "colab": {
          "base_uri": "https://localhost:8080/",
          "height": 536
        },
        "id": "3YDV4hgB-Poh",
        "outputId": "43d31962-947d-46f9-83f5-28d4faa1a373"
      },
      "source": [
        "import matplotlib.pyplot as plt\n",
        "import numpy as np\n",
        "\n",
        "plt.figure(figsize=(10,8))\n",
        "\n",
        "# plt.subplot(121)\n",
        "plt.style.use('ggplot')\n",
        "plt.plot(kld_freq,'r',label= \"Frequency-Based Approach\")\n",
        "plt.plot(kld_graph,'b',label=\"Graph-Based Approach\")\n",
        "plt.plot(kld_extr,'g',label=\"Centroid based K-means Approach\")\n",
        "plt.plot(kld_bert,'y',label=\"BERT-Based Approach\")\n",
        "plt.xlabel(\"$Test\\ Dataset$\")\n",
        "plt.ylabel(\"$Closeness\\ to\\ Original\\ Document$\")\n",
        "plt.title(\"$KL\\  Divergance$\")\n",
        "plt.legend()\n"
      ],
      "execution_count": 41,
      "outputs": [
        {
          "output_type": "execute_result",
          "data": {
            "text/plain": [
              "<matplotlib.legend.Legend at 0x7f64d9a118d0>"
            ]
          },
          "metadata": {
            "tags": []
          },
          "execution_count": 41
        },
        {
          "output_type": "display_data",
          "data": {
            "image/png": "[encoded data removed]",
            "text/plain": [
              "<Figure size 720x576 with 1 Axes>"
            ]
          },
          "metadata": {
            "tags": []
          }
        }
      ]
    },
    {
      "cell_type": "code",
      "metadata": {
        "colab": {
          "base_uri": "https://localhost:8080/",
          "height": 519
        },
        "id": "X55b76dGXDBf",
        "outputId": "fee5c291-8fe1-4b62-e09f-830fadec0dbe"
      },
      "source": [
        "plt.figure(figsize=(10,8))\n",
        "plt.style.use('ggplot')\n",
        "plt.plot(jsd_freq,'r',label= \"Frequency-Based Approach\")\n",
        "plt.plot(jsd_graph,'b',label=\"Graph-Based Approach\")\n",
        "plt.plot(jsd_extr,'g',label=\"Centroid based K-means Approach\")\n",
        "plt.plot(jsd_bert,'y',label=\"BERT-Based Approach\")\n",
        "plt.xlabel(\"$Test\\ Dataset$\")\n",
        "plt.ylabel(\"$Closeness\\ to\\ Original\\ Document$\")\n",
        "plt.title(\"$JS\\  Divergance$\")\n",
        "plt.legend()\n",
        "plt.savefig(\"evaluation.jpg\")\n",
        "plt.show()"
      ],
      "execution_count": 42,
      "outputs": [
        {
          "output_type": "display_data",
          "data": {
            "image/png": "[encoded data removed]",
            "text/plain": [
              "<Figure size 720x576 with 1 Axes>"
            ]
          },
          "metadata": {
            "tags": []
          }
        }
      ]
    },
    {
      "cell_type": "code",
      "metadata": {
        "id": "SQV8rgTTYhC0"
      },
      "source": [
        ""
      ],
      "execution_count": null,
      "outputs": []
    }
  ]
}