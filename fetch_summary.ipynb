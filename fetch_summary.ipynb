{
  "nbformat": 4,
  "nbformat_minor": 0,
  "metadata": {
    "colab": {
      "name": "fetch_summary.ipynb",
      "provenance": [],
      "include_colab_link": true
    },
    "kernelspec": {
      "name": "python3",
      "display_name": "Python 3"
    }
  },
  "cells": [
    {
      "cell_type": "markdown",
      "metadata": {
        "id": "view-in-github",
        "colab_type": "text"
      },
      "source": [
        "<a href=\"https://colab.research.google.com/github/NeelKanwal/BERTOLOGY-Based-Extractive-Summarization-for-Clinical-Notes/blob/master/fetch_summary.ipynb\" target=\"_parent\"><img src=\"https://colab.research.google.com/assets/colab-badge.svg\" alt=\"Open In Colab\"/></a>"
      ]
    },
    {
      "cell_type": "code",
      "metadata": {
        "id": "9eD1wY-vxE79",
        "colab_type": "code",
        "colab": {}
      },
      "source": [
        "from google.colab import drive\n",
        "#drive.mount('/content/drive')\n",
        "# drive.flush_and_unmount(timeout_ms=10)"
      ],
      "execution_count": 0,
      "outputs": []
    },
    {
      "cell_type": "code",
      "metadata": {
        "id": "cOLy6bK99kk9",
        "colab_type": "code",
        "outputId": "e02d1675-3e01-4bbc-8f94-a29679f0bb2b",
        "colab": {
          "base_uri": "https://localhost:8080/",
          "height": 207
        }
      },
      "source": [
        "import os\n",
        "os.chdir('/content/drive/My Drive/MedicoBert/')\n",
        "%ls"
      ],
      "execution_count": 0,
      "outputs": [
        {
          "output_type": "error",
          "ename": "FileNotFoundError",
          "evalue": "ignored",
          "traceback": [
            "\u001b[0;31m---------------------------------------------------------------------------\u001b[0m",
            "\u001b[0;31mFileNotFoundError\u001b[0m                         Traceback (most recent call last)",
            "\u001b[0;32m<ipython-input-3-02f68da6bece>\u001b[0m in \u001b[0;36m<module>\u001b[0;34m()\u001b[0m\n\u001b[1;32m      1\u001b[0m \u001b[0;32mimport\u001b[0m \u001b[0mos\u001b[0m\u001b[0;34m\u001b[0m\u001b[0;34m\u001b[0m\u001b[0m\n\u001b[0;32m----> 2\u001b[0;31m \u001b[0mos\u001b[0m\u001b[0;34m.\u001b[0m\u001b[0mchdir\u001b[0m\u001b[0;34m(\u001b[0m\u001b[0;34m'/content/drive/My Drive/MedicoBert/'\u001b[0m\u001b[0;34m)\u001b[0m\u001b[0;34m\u001b[0m\u001b[0;34m\u001b[0m\u001b[0m\n\u001b[0m\u001b[1;32m      3\u001b[0m \u001b[0mget_ipython\u001b[0m\u001b[0;34m(\u001b[0m\u001b[0;34m)\u001b[0m\u001b[0;34m.\u001b[0m\u001b[0mmagic\u001b[0m\u001b[0;34m(\u001b[0m\u001b[0;34m'ls'\u001b[0m\u001b[0;34m)\u001b[0m\u001b[0;34m\u001b[0m\u001b[0;34m\u001b[0m\u001b[0m\n",
            "\u001b[0;31mFileNotFoundError\u001b[0m: [Errno 2] No such file or directory: '/content/drive/My Drive/MedicoBert/'"
          ]
        }
      ]
    },
    {
      "cell_type": "code",
      "metadata": {
        "id": "MMyP6c6p-17W",
        "colab_type": "code",
        "outputId": "e1a8073f-41c4-40ed-84d3-2e09957e4c20",
        "colab": {
          "base_uri": "https://localhost:8080/",
          "height": 407
        }
      },
      "source": [
        "import pandas as pd\n",
        "df=pd.DataFrame(data,columns=[\"Subject_ID\",\"Hadm_ID\",\"Summary\",\"Length\",\"Labels\"])\n",
        "#df"
      ],
      "execution_count": 0,
      "outputs": [
        {
          "output_type": "execute_result",
          "data": {
            "text/html": [
              "<div>\n",
              "<style scoped>\n",
              "    .dataframe tbody tr th:only-of-type {\n",
              "        vertical-align: middle;\n",
              "    }\n",
              "\n",
              "    .dataframe tbody tr th {\n",
              "        vertical-align: top;\n",
              "    }\n",
              "\n",
              "    .dataframe thead th {\n",
              "        text-align: right;\n",
              "    }\n",
              "</style>\n",
              "<table border=\"1\" class=\"dataframe\">\n",
              "  <thead>\n",
              "    <tr style=\"text-align: right;\">\n",
              "      <th></th>\n",
              "      <th>Subject_ID</th>\n",
              "      <th>Hadm_ID</th>\n",
              "      <th>Summary</th>\n",
              "      <th>Length</th>\n",
              "      <th>Labels</th>\n",
              "    </tr>\n",
              "  </thead>\n",
              "  <tbody>\n",
              "    <tr>\n",
              "      <th>0</th>\n",
              "      <td>89109</td>\n",
              "      <td>144591</td>\n",
              "      <td>[[admission, date], [june, discharge, date], [...</td>\n",
              "      <td>3459</td>\n",
              "      <td>[487.8, 482.42, 428.21, 493.22, 518.81, 997.31...</td>\n",
              "    </tr>\n",
              "    <tr>\n",
              "      <th>1</th>\n",
              "      <td>89112</td>\n",
              "      <td>183380</td>\n",
              "      <td>[[admission, date], [november], [discharge, da...</td>\n",
              "      <td>1508</td>\n",
              "      <td>[411.0, 401.9, 305.1, 414.01, 780.79, 427.31, ...</td>\n",
              "    </tr>\n",
              "    <tr>\n",
              "      <th>2</th>\n",
              "      <td>89119</td>\n",
              "      <td>180906</td>\n",
              "      <td>[[admission, date], [july], [discharge, date],...</td>\n",
              "      <td>2094</td>\n",
              "      <td>[790.7, 585.6, 507.0, 999.31, 428.22, 403.91, ...</td>\n",
              "    </tr>\n",
              "    <tr>\n",
              "      <th>3</th>\n",
              "      <td>89119</td>\n",
              "      <td>187268</td>\n",
              "      <td>[[admission, date], [april], [discharge, date]...</td>\n",
              "      <td>1589</td>\n",
              "      <td>[038.43, 785.52, 585.6, 599.0, 403.91, 428.22,...</td>\n",
              "    </tr>\n",
              "    <tr>\n",
              "      <th>4</th>\n",
              "      <td>89119</td>\n",
              "      <td>191630</td>\n",
              "      <td>[[admission, date], [july], [discharge, date],...</td>\n",
              "      <td>2552</td>\n",
              "      <td>[599.0, 585.6, 403.91, 560.0, 428.22, 428.0, 7...</td>\n",
              "    </tr>\n",
              "    <tr>\n",
              "      <th>...</th>\n",
              "      <td>...</td>\n",
              "      <td>...</td>\n",
              "      <td>...</td>\n",
              "      <td>...</td>\n",
              "      <td>...</td>\n",
              "    </tr>\n",
              "    <tr>\n",
              "      <th>3367</th>\n",
              "      <td>99985</td>\n",
              "      <td>176670</td>\n",
              "      <td>[[admission, date], [january, discharge, date]...</td>\n",
              "      <td>1542</td>\n",
              "      <td>[038.9, 518.81, 482.41, 487.0, 785.52, V42.81,...</td>\n",
              "    </tr>\n",
              "    <tr>\n",
              "      <th>3368</th>\n",
              "      <td>99991</td>\n",
              "      <td>151118</td>\n",
              "      <td>[[admission, date], [december], [discharge, da...</td>\n",
              "      <td>1435</td>\n",
              "      <td>[562.11, 038.9, 557.0, 584.9, 995.92, 560.81, ...</td>\n",
              "    </tr>\n",
              "    <tr>\n",
              "      <th>3369</th>\n",
              "      <td>99992</td>\n",
              "      <td>197084</td>\n",
              "      <td>[[admission, date], [july], [discharge, date],...</td>\n",
              "      <td>1873</td>\n",
              "      <td>[999.9, 568.81, 577.2, 285.1, 584.9, 579.9, 72...</td>\n",
              "    </tr>\n",
              "    <tr>\n",
              "      <th>3370</th>\n",
              "      <td>99995</td>\n",
              "      <td>137810</td>\n",
              "      <td>[[admission, date], [february], [discharge, da...</td>\n",
              "      <td>921</td>\n",
              "      <td>[441.4, 428.33, 998.12, 285.1, 424.1, 250.00, ...</td>\n",
              "    </tr>\n",
              "    <tr>\n",
              "      <th>3371</th>\n",
              "      <td>99999</td>\n",
              "      <td>113369</td>\n",
              "      <td>[[admission, date], [december], [discharge, da...</td>\n",
              "      <td>993</td>\n",
              "      <td>[756.12, 786.1, 401.9, 250.00, 413.9, 81.08, 8...</td>\n",
              "    </tr>\n",
              "  </tbody>\n",
              "</table>\n",
              "<p>3372 rows × 5 columns</p>\n",
              "</div>"
            ],
            "text/plain": [
              "      Subject_ID  ...                                             Labels\n",
              "0          89109  ...  [487.8, 482.42, 428.21, 493.22, 518.81, 997.31...\n",
              "1          89112  ...  [411.0, 401.9, 305.1, 414.01, 780.79, 427.31, ...\n",
              "2          89119  ...  [790.7, 585.6, 507.0, 999.31, 428.22, 403.91, ...\n",
              "3          89119  ...  [038.43, 785.52, 585.6, 599.0, 403.91, 428.22,...\n",
              "4          89119  ...  [599.0, 585.6, 403.91, 560.0, 428.22, 428.0, 7...\n",
              "...          ...  ...                                                ...\n",
              "3367       99985  ...  [038.9, 518.81, 482.41, 487.0, 785.52, V42.81,...\n",
              "3368       99991  ...  [562.11, 038.9, 557.0, 584.9, 995.92, 560.81, ...\n",
              "3369       99992  ...  [999.9, 568.81, 577.2, 285.1, 584.9, 579.9, 72...\n",
              "3370       99995  ...  [441.4, 428.33, 998.12, 285.1, 424.1, 250.00, ...\n",
              "3371       99999  ...  [756.12, 786.1, 401.9, 250.00, 413.9, 81.08, 8...\n",
              "\n",
              "[3372 rows x 5 columns]"
            ]
          },
          "metadata": {
            "tags": []
          },
          "execution_count": 28
        }
      ]
    },
    {
      "cell_type": "code",
      "metadata": {
        "id": "HHovAuYL_wew",
        "colab_type": "code",
        "colab": {}
      },
      "source": [
        "def fetch_summary(num):\n",
        "      import json\n",
        "      data=[]\n",
        "      with open(\"notes_labeled_test.ndjson\") as file:\n",
        "        for row in file:\n",
        "          data.append(json.loads(row))\n",
        "   \n",
        "      summary= \" \".join(j for i in df['Summary'][num] for j in i)\n",
        "      return summary"
      ],
      "execution_count": 0,
      "outputs": []
    },
    {
      "cell_type": "code",
      "metadata": {
        "id": "Zp-Ckl1-ETim",
        "colab_type": "code",
        "outputId": "b8442d13-16c7-4f5e-a287-de37ecb11975",
        "colab": {
          "base_uri": "https://localhost:8080/",
          "height": 55
        }
      },
      "source": [
        "import random\n",
        "print(fetch_summary(int(random.uniform(0,3372))))"
      ],
      "execution_count": 0,
      "outputs": [
        {
          "output_type": "stream",
          "text": [
            "admission date april discharge date april date of birth october sex m service cardiothoracic allergies vicodin attending firstnametoken chief complaint shortness of breath major surgical or invasive procedure april difficult intubation operating april coronary artery bypass graft surgery x5 left internal mammary artery left anterior descending saphenous vein graft diagonal saphenous vein graft obtuse marginal saphenous vein graft obtuse marginal saphenous vein graft right coronary artery history of present illness year old male was recently seen by a new pcp for routine physical and was noted to have some new changes on his ekg he was referred to dr. lastnametoken for evaluation and had a stress echo the official report is not available however according to verbal report from dr. firstnametoken lastnametoken this was significant for shortnes of breath during exercise and inferolateral hypokinesis on the post exercise echo images he reports having dyspnea with exertion which is new over the last year he reports dyspnea and fatigue after walking about december of a mile he has particularly noticed this walking through the airport while carrying his bags he denies any chest pain he does report february pillow orthopnea which he relates to his sinuses he does report chronic lower extremity edema over the last years he also reports some leg pain when he walks for prolonged periods he was referred for a cariac catheterization and was found to have coronary artery disease and is now being referred to cardiac surgery for revascularization past medical history hypertension chronic rhinitis sinusitis morbid obesity poor dentition peripheral edema peripheral venous insufficiency insomnia obstructive sleep apnea undiagnosed does not use cpap anemia hypercholesterolemia dental infection s p teeth extraction on amoxicillin for the past week intubated yrs ago r t respiratory distress r t oral dental infection in icu x days facial surgery r t mva tonsillectomy social history lives with wife occupation nametoken as a marketing manager tobacco currently smokes ppd for the last april yrs etoh occasional family history father has cad s p stents in his 70s physical exam pulse resp o2 sat b p right left height weight lbs general awake alert oriented skin dry x intact x heent perrla x eomi x neck supple x full rom x chest lungs clear bilaterally x heart rrr x irregular murmur very soft december diastolic murmur w/o radiation abdomen soft x non distended x non tender x bowel sounds extremities warm x well perfused x pitting edema small varicosities bilaterally neuro grossly intact pulses femoral right left dp right left pt nametoken left radial right left carotid bruit right no left no pertinent results april echo pre cpb the left atrium is mildly dilated no atrial septal defect is seen by 2d or color doppler there is moderate symmetric left ventricular hypertrophy overall left ventricular systolic function is moderately depressed lvef right ventricular chamber size and free wall motion are normal the ascending aorta is mildly dilated there are simple atheroma in the descending thoracic aorta no thoracic aortic dissection is seen the aortic valve leaflets appear structurally normal with good leaflet excursion and no aortic stenosis no aortic regurgitation is seen the mitral valve leaflets are mildly thickened trivial mitral regurgitation is seen post cpb the lv systolic function remains moderately depressed estimated ef the patient is on nitroglycerin infusion the mr appears to be mild there is no evidence of aortic dissection april cxr there are persistent low lung volumes moderate cardiomegaly is stable widened mediastinum has improved pulmonary congestion has resolved bibasilar atelectases have improved right greater than left there is no evident pneumothorax bilateral pleural effusions are small sternal wires are aligned april 54pm blood wbc rbc hgb hct mcv mch mchc rdw plt ct april 57am blood wbc rbc hgb hct mcv mch mchc rdw plt ct april 10am blood wbc rbc hgb hct mcv mch mchc rdw plt ct april 54pm blood pt ptt inr pt april 57am blood pt ptt inr pt april 54pm blood glucose urean creat na k cl hco3 angap april 40am blood glucose urean creat na k cl hco3 angap april 10am blood urean creat na k cl april 54pm blood calcium phos mg april 40am blood calcium phos mg april 10am blood wbc rbc hgb hct mcv mch mchc rdw plt ct april 57am blood pt ptt inr pt april 10am blood urean creat na k cl brief hospital course admitted same day surgery and was brought to the operating room however due to difficulty with intubation he was intubated and brought to the intensive care unit see anesthesia note for further details he remained intubated and sedated overnight and was brought to the operating and underwent coronary artery bypass graft surgery see operative report for further details he received vancomycin and cefazolin for periop antibiotics post operatively he was transferred to the intensive care unit for management he remained intubated overnight and in the morning of post operative day one he was weaned from propofol and placed on precedex also was started on steroids for potential laryngeal edema in plan for extubation he was weaned from ventilator and cook catheter was placed for access with extubation with intensivist at bedside he remained extubated without complications and steroids were stopped he was started on lasix for diuresis requiring lasix drip due to volume overload over the next few days he was aggressively diuresed and started on beta blockers and ace inhibitor for blood pressure and heart rate management he continued to progress and was transitioned to bolus dosing of lasix on postoperative day four he was ready for transfer to the floor chest tubes and epicardial pacing wires were removed per protocol physical therapy worked with him on strength and mobility antibiotics and warm packs were started for right upper extremity phlebitis he continued to make steady progress and on post op day seven he was discharged to rehab facility locationtoken in locationtoken he received the appropriate medications and follow up appointments medications on admission lisinopril hydrochlorothiazide mg mg daily metoprolol succinate mg extended release hr daily aspirin mg tablet daily nasal spray discharge medications simvastatin mg tablet sig two tablet po daily daily famotidine mg tablet sig one tablet po bid times a day aspirin mg tablet delayed release e.c. sig one tablet delayed release e.c. po daily daily lisinopril mg tablet sig two tablet po daily daily metoprolol succinate mg tablet extended release hr sig two tablet extended release hr po daily daily furosemide mg tablet sig one tablet po twice a day after days please take mg daily potassium chloride meq tablet er particles crystals sig two tablet er particles crystals po once a day nystatin unit ml suspension sig five ml po qid times a day continue until thrush resolved hydromorphone mg tablet sig tablets po q4h every hours as needed for pain heparin porcine unit ml solution sig one injection tid times a day continue until pt is ambulating more ibuprofen mg tablet sig one tablet po q8h every hours as needed for pain calcium carbonate mg calcium mg tablet chewable sig one tablet chewable po qid times a day as needed for indigestion magnesium hydroxide mg ml suspension sig thirty ml po daily daily as needed for constipation acetaminophen mg tablet sig two tablet po q8h every hours as needed for fever or pain temazepam mg capsule sig one capsule po hs at bedtime as needed for insomnia cefazolin in dextrose iso os gram ml piggyback sig one piggyback intravenous q8h every hours as needed for phlebitis cord x day course started april indication rue plebitis cord furosemide mg tablet sig one tablet po daily daily discharge disposition extended care facility locationtoken locationtoken discharge diagnosis coronary artery disease s p coronary artery bypass graft x acute on chronic systolic heart failure difficult intubation right upper extremity cellulitis past medical history hypertension chronic rhinitis sinusitis morbid obesity poor dentition peripheral edema peripheral venous insufficiency insomnia obstructive sleep apnea undiagnosed does not use cpap anemia hypercholesterolemia dental infection s p teeth extraction on amoxicillin for the past week intubated yrs ago r t respiratory distress r t oral dental infection in icu x days facial surgery r t mva tonsillectomy discharge condition alert and oriented x3 nonfocal ambulating with assistance incisional pain managed with dilaudid as needed incisions sternal healing well no erythema or drainage leg left evh healing well no erythema or drainage edema trace right upper extremity cellulitis with decreasing erythema and warmth discharge instructions please shower daily including washing incisions gently with mild soap no baths or swimming until cleared by surgeon look at your incisions daily for redness or drainage please no lotions cream powder or ointments to incisions each morning you should weigh yourself and then in the evening take your temperature these should be written down on the chart no driving for approximately one month and while taking narcotics will be discussed at follow up appointment with surgeon when you will be able to drive no lifting more than pounds for weeks please call with any questions or concerns telephonenumbertoken please call cardiac surgery office with any questions or concerns telephonenumbertoken answering service will contact on call person during off hours followup instructions you are scheduled for the following appointments surgeon dr. lastnametoken on may at 1pm telephonenumbertoken cardiologist dr. lastnametoken on may at 30pm sleep consult with dr. firstnametoken lastnametoken may at am telephonenumbertoken please call to schedule appointments with your primary care dr. lastnametoken telephonenumbertoken in march weeks please call cardiac surgery office with any questions or concerns telephonenumbertoken answering service will contact on call person during off hours completed by april\n"
          ],
          "name": "stdout"
        }
      ]
    }
  ]
}